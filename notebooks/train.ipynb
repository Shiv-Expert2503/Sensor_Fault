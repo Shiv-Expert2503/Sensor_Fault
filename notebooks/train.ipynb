{
 "cells": [
  {
   "cell_type": "code",
   "execution_count": 1,
   "id": "initial_id",
   "metadata": {
    "ExecuteTime": {
     "end_time": "2023-11-01T05:45:16.333587800Z",
     "start_time": "2023-11-01T05:45:16.210581600Z"
    },
    "collapsed": true
   },
   "outputs": [],
   "source": [
    "import os\n",
    "import warnings\n",
    "\n",
    "import matplotlib.pyplot as plt\n",
    "import numpy as np\n",
    "import pandas as pd\n",
    "import seaborn as sns\n",
    "\n",
    "warnings.filterwarnings('ignore')"
   ]
  },
  {
   "cell_type": "code",
   "execution_count": 3,
   "id": "a9b31ba197331468",
   "metadata": {
    "ExecuteTime": {
     "end_time": "2023-11-01T05:45:16.412460Z",
     "start_time": "2023-11-01T05:45:16.224344600Z"
    },
    "collapsed": false
   },
   "outputs": [],
   "source": [
    "data = pd.read_csv(os.path.join(os.getcwd(), \"Data/wafer_23012020_041211.csv\"))"
   ]
  },
  {
   "cell_type": "code",
   "execution_count": 4,
   "id": "780544cf9a55e451",
   "metadata": {
    "ExecuteTime": {
     "end_time": "2023-11-01T05:45:16.463819800Z",
     "start_time": "2023-11-01T05:45:16.268921700Z"
    },
    "collapsed": false
   },
   "outputs": [
    {
     "data": {
      "text/html": [
       "<div>\n",
       "<style scoped>\n",
       "    .dataframe tbody tr th:only-of-type {\n",
       "        vertical-align: middle;\n",
       "    }\n",
       "\n",
       "    .dataframe tbody tr th {\n",
       "        vertical-align: top;\n",
       "    }\n",
       "\n",
       "    .dataframe thead th {\n",
       "        text-align: right;\n",
       "    }\n",
       "</style>\n",
       "<table border=\"1\" class=\"dataframe\">\n",
       "  <thead>\n",
       "    <tr style=\"text-align: right;\">\n",
       "      <th></th>\n",
       "      <th>Unnamed: 0</th>\n",
       "      <th>Sensor-1</th>\n",
       "      <th>Sensor-2</th>\n",
       "      <th>Sensor-3</th>\n",
       "      <th>Sensor-4</th>\n",
       "      <th>Sensor-5</th>\n",
       "      <th>Sensor-6</th>\n",
       "      <th>Sensor-7</th>\n",
       "      <th>Sensor-8</th>\n",
       "      <th>Sensor-9</th>\n",
       "      <th>...</th>\n",
       "      <th>Sensor-582</th>\n",
       "      <th>Sensor-583</th>\n",
       "      <th>Sensor-584</th>\n",
       "      <th>Sensor-585</th>\n",
       "      <th>Sensor-586</th>\n",
       "      <th>Sensor-587</th>\n",
       "      <th>Sensor-588</th>\n",
       "      <th>Sensor-589</th>\n",
       "      <th>Sensor-590</th>\n",
       "      <th>Good/Bad</th>\n",
       "    </tr>\n",
       "  </thead>\n",
       "  <tbody>\n",
       "    <tr>\n",
       "      <th>0</th>\n",
       "      <td>Wafer-801</td>\n",
       "      <td>2968.33</td>\n",
       "      <td>2476.58</td>\n",
       "      <td>2216.7333</td>\n",
       "      <td>1748.0885</td>\n",
       "      <td>1.1127</td>\n",
       "      <td>100.0</td>\n",
       "      <td>97.5822</td>\n",
       "      <td>0.1242</td>\n",
       "      <td>1.5300</td>\n",
       "      <td>...</td>\n",
       "      <td>NaN</td>\n",
       "      <td>0.5004</td>\n",
       "      <td>0.0120</td>\n",
       "      <td>0.0033</td>\n",
       "      <td>2.4069</td>\n",
       "      <td>0.0545</td>\n",
       "      <td>0.0184</td>\n",
       "      <td>0.0055</td>\n",
       "      <td>33.7876</td>\n",
       "      <td>-1</td>\n",
       "    </tr>\n",
       "    <tr>\n",
       "      <th>1</th>\n",
       "      <td>Wafer-802</td>\n",
       "      <td>2961.04</td>\n",
       "      <td>2506.43</td>\n",
       "      <td>2170.0666</td>\n",
       "      <td>1364.5157</td>\n",
       "      <td>1.5447</td>\n",
       "      <td>100.0</td>\n",
       "      <td>96.7700</td>\n",
       "      <td>0.1230</td>\n",
       "      <td>1.3953</td>\n",
       "      <td>...</td>\n",
       "      <td>NaN</td>\n",
       "      <td>0.4994</td>\n",
       "      <td>0.0115</td>\n",
       "      <td>0.0031</td>\n",
       "      <td>2.3020</td>\n",
       "      <td>0.0545</td>\n",
       "      <td>0.0184</td>\n",
       "      <td>0.0055</td>\n",
       "      <td>33.7876</td>\n",
       "      <td>1</td>\n",
       "    </tr>\n",
       "    <tr>\n",
       "      <th>2</th>\n",
       "      <td>Wafer-803</td>\n",
       "      <td>3072.03</td>\n",
       "      <td>2500.68</td>\n",
       "      <td>2205.7445</td>\n",
       "      <td>1363.1048</td>\n",
       "      <td>1.0518</td>\n",
       "      <td>100.0</td>\n",
       "      <td>101.8644</td>\n",
       "      <td>0.1220</td>\n",
       "      <td>1.3896</td>\n",
       "      <td>...</td>\n",
       "      <td>NaN</td>\n",
       "      <td>0.4987</td>\n",
       "      <td>0.0118</td>\n",
       "      <td>0.0036</td>\n",
       "      <td>2.3719</td>\n",
       "      <td>0.0545</td>\n",
       "      <td>0.0184</td>\n",
       "      <td>0.0055</td>\n",
       "      <td>33.7876</td>\n",
       "      <td>-1</td>\n",
       "    </tr>\n",
       "    <tr>\n",
       "      <th>3</th>\n",
       "      <td>Wafer-804</td>\n",
       "      <td>3021.83</td>\n",
       "      <td>2419.83</td>\n",
       "      <td>2205.7445</td>\n",
       "      <td>1363.1048</td>\n",
       "      <td>1.0518</td>\n",
       "      <td>100.0</td>\n",
       "      <td>101.8644</td>\n",
       "      <td>0.1220</td>\n",
       "      <td>1.4108</td>\n",
       "      <td>...</td>\n",
       "      <td>NaN</td>\n",
       "      <td>0.4934</td>\n",
       "      <td>0.0123</td>\n",
       "      <td>0.0040</td>\n",
       "      <td>2.4923</td>\n",
       "      <td>0.0545</td>\n",
       "      <td>0.0184</td>\n",
       "      <td>0.0055</td>\n",
       "      <td>33.7876</td>\n",
       "      <td>-1</td>\n",
       "    </tr>\n",
       "    <tr>\n",
       "      <th>4</th>\n",
       "      <td>Wafer-805</td>\n",
       "      <td>3006.95</td>\n",
       "      <td>2435.34</td>\n",
       "      <td>2189.8111</td>\n",
       "      <td>1084.6502</td>\n",
       "      <td>1.1993</td>\n",
       "      <td>100.0</td>\n",
       "      <td>104.8856</td>\n",
       "      <td>0.1234</td>\n",
       "      <td>1.5094</td>\n",
       "      <td>...</td>\n",
       "      <td>NaN</td>\n",
       "      <td>0.4987</td>\n",
       "      <td>0.0145</td>\n",
       "      <td>0.0041</td>\n",
       "      <td>2.8991</td>\n",
       "      <td>0.0545</td>\n",
       "      <td>0.0184</td>\n",
       "      <td>0.0055</td>\n",
       "      <td>33.7876</td>\n",
       "      <td>-1</td>\n",
       "    </tr>\n",
       "  </tbody>\n",
       "</table>\n",
       "<p>5 rows × 592 columns</p>\n",
       "</div>"
      ],
      "text/plain": [
       "  Unnamed: 0  Sensor-1  Sensor-2   Sensor-3   Sensor-4  Sensor-5  Sensor-6  \\\n",
       "0  Wafer-801   2968.33   2476.58  2216.7333  1748.0885    1.1127     100.0   \n",
       "1  Wafer-802   2961.04   2506.43  2170.0666  1364.5157    1.5447     100.0   \n",
       "2  Wafer-803   3072.03   2500.68  2205.7445  1363.1048    1.0518     100.0   \n",
       "3  Wafer-804   3021.83   2419.83  2205.7445  1363.1048    1.0518     100.0   \n",
       "4  Wafer-805   3006.95   2435.34  2189.8111  1084.6502    1.1993     100.0   \n",
       "\n",
       "   Sensor-7  Sensor-8  Sensor-9  ...  Sensor-582  Sensor-583  Sensor-584  \\\n",
       "0   97.5822    0.1242    1.5300  ...         NaN      0.5004      0.0120   \n",
       "1   96.7700    0.1230    1.3953  ...         NaN      0.4994      0.0115   \n",
       "2  101.8644    0.1220    1.3896  ...         NaN      0.4987      0.0118   \n",
       "3  101.8644    0.1220    1.4108  ...         NaN      0.4934      0.0123   \n",
       "4  104.8856    0.1234    1.5094  ...         NaN      0.4987      0.0145   \n",
       "\n",
       "   Sensor-585  Sensor-586  Sensor-587  Sensor-588  Sensor-589  Sensor-590  \\\n",
       "0      0.0033      2.4069      0.0545      0.0184      0.0055     33.7876   \n",
       "1      0.0031      2.3020      0.0545      0.0184      0.0055     33.7876   \n",
       "2      0.0036      2.3719      0.0545      0.0184      0.0055     33.7876   \n",
       "3      0.0040      2.4923      0.0545      0.0184      0.0055     33.7876   \n",
       "4      0.0041      2.8991      0.0545      0.0184      0.0055     33.7876   \n",
       "\n",
       "   Good/Bad  \n",
       "0        -1  \n",
       "1         1  \n",
       "2        -1  \n",
       "3        -1  \n",
       "4        -1  \n",
       "\n",
       "[5 rows x 592 columns]"
      ]
     },
     "execution_count": 4,
     "metadata": {},
     "output_type": "execute_result"
    }
   ],
   "source": [
    "data.head()"
   ]
  },
  {
   "cell_type": "code",
   "execution_count": 9,
   "id": "d51f37b0129f559d",
   "metadata": {
    "ExecuteTime": {
     "end_time": "2023-11-01T05:47:33.242719300Z",
     "start_time": "2023-11-01T05:47:33.201418200Z"
    },
    "collapsed": false
   },
   "outputs": [
    {
     "data": {
      "text/plain": [
       "Unnamed: 0\n",
       "Wafer-801    1\n",
       "Wafer-864    1\n",
       "Wafer-874    1\n",
       "Wafer-873    1\n",
       "Wafer-872    1\n",
       "            ..\n",
       "Wafer-831    1\n",
       "Wafer-830    1\n",
       "Wafer-829    1\n",
       "Wafer-828    1\n",
       "Wafer-900    1\n",
       "Name: count, Length: 100, dtype: int64"
      ]
     },
     "execution_count": 9,
     "metadata": {},
     "output_type": "execute_result"
    }
   ],
   "source": [
    "data['Unnamed: 0'].value_counts()"
   ]
  },
  {
   "cell_type": "code",
   "execution_count": 11,
   "id": "29cfb43fb063fc5f",
   "metadata": {
    "collapsed": false
   },
   "outputs": [],
   "source": [
    "data.copy().drop([\"Good/Bad\", \"Unnamed: 0\"], axis=1).to_csv(\"Data/test2.csv\", index=False)"
   ]
  },
  {
   "cell_type": "code",
   "execution_count": null,
   "id": "a72c53f9059f6227",
   "metadata": {
    "collapsed": false
   },
   "outputs": [],
   "source": []
  },
  {
   "cell_type": "code",
   "execution_count": null,
   "id": "5b1a10d0fbb0f03c",
   "metadata": {
    "collapsed": false
   },
   "outputs": [],
   "source": []
  },
  {
   "cell_type": "code",
   "execution_count": null,
   "id": "4686668f2a3ea58",
   "metadata": {
    "collapsed": false
   },
   "outputs": [],
   "source": []
  },
  {
   "cell_type": "code",
   "execution_count": 7,
   "id": "42fc38c2d60c4655",
   "metadata": {
    "ExecuteTime": {
     "end_time": "2023-10-27T16:59:27.707586600Z",
     "start_time": "2023-10-27T16:59:27.689335800Z"
    },
    "collapsed": false
   },
   "outputs": [],
   "source": [
    "def get_redundant_cols(df1: pd.DataFrame, missing_tresh=0.7):\n",
    "    ratio = df1.isna().sum() / df1.shape[0]\n",
    "    l1 = list(ratio[ratio > missing_tresh].index)\n",
    "    return l1"
   ]
  },
  {
   "cell_type": "code",
   "execution_count": 14,
   "id": "6cd694bc2246bed",
   "metadata": {
    "ExecuteTime": {
     "end_time": "2023-10-27T17:00:44.114959600Z",
     "start_time": "2023-10-27T17:00:44.069469600Z"
    },
    "collapsed": false
   },
   "outputs": [],
   "source": [
    "cols_to_drop = get_redundant_cols(data)\n",
    "cols_to_drop.append('Unnamed: 0')\n",
    "cols_to_drop.append('Good/Bad')\n",
    "x = data.drop((cols_to_drop), axis=1)"
   ]
  },
  {
   "cell_type": "code",
   "execution_count": 16,
   "id": "1cc66a1f10ebbcc6",
   "metadata": {
    "ExecuteTime": {
     "end_time": "2023-10-27T17:02:35.382439900Z",
     "start_time": "2023-10-27T17:02:35.368647500Z"
    },
    "collapsed": false
   },
   "outputs": [],
   "source": [
    "y = data['Good/Bad']"
   ]
  },
  {
   "cell_type": "code",
   "execution_count": 23,
   "id": "691ecfc480772046",
   "metadata": {
    "ExecuteTime": {
     "end_time": "2023-10-27T17:03:48.516807800Z",
     "start_time": "2023-10-27T17:03:48.436322200Z"
    },
    "collapsed": false
   },
   "outputs": [
    {
     "ename": "AttributeError",
     "evalue": "'numpy.ndarray' object has no attribute 'unique'",
     "output_type": "error",
     "traceback": [
      "\u001b[1;31m---------------------------------------------------------------------------\u001b[0m",
      "\u001b[1;31mAttributeError\u001b[0m                            Traceback (most recent call last)",
      "Cell \u001b[1;32mIn[23], line 1\u001b[0m\n\u001b[1;32m----> 1\u001b[0m \u001b[43my\u001b[49m\u001b[38;5;241;43m.\u001b[39;49m\u001b[43munique\u001b[49m()\n",
      "\u001b[1;31mAttributeError\u001b[0m: 'numpy.ndarray' object has no attribute 'unique'"
     ]
    }
   ],
   "source": [
    "y.unique()"
   ]
  },
  {
   "cell_type": "code",
   "execution_count": 18,
   "id": "af97307ca30294d8",
   "metadata": {
    "ExecuteTime": {
     "end_time": "2023-10-27T17:02:59.522072Z",
     "start_time": "2023-10-27T17:02:59.482105300Z"
    },
    "collapsed": false
   },
   "outputs": [],
   "source": [
    "y = np.where(y == -1, 0, 1)"
   ]
  },
  {
   "cell_type": "code",
   "execution_count": 19,
   "id": "d93312b508233cd3",
   "metadata": {
    "ExecuteTime": {
     "end_time": "2023-10-27T17:03:03.010734600Z",
     "start_time": "2023-10-27T17:03:02.973192500Z"
    },
    "collapsed": false
   },
   "outputs": [
    {
     "data": {
      "text/plain": [
       "array([0, 1, 0, 0, 0, 0, 0, 0, 0, 0, 0, 0, 0, 0, 0, 0, 0, 0, 0, 0, 0, 0,\n",
       "       0, 0, 0, 0, 0, 0, 0, 0, 0, 0, 0, 0, 0, 0, 0, 0, 0, 0, 0, 1, 0, 0,\n",
       "       0, 0, 0, 0, 0, 0, 0, 0, 0, 0, 0, 0, 0, 0, 0, 0, 0, 0, 0, 0, 0, 0,\n",
       "       0, 0, 0, 0, 0, 0, 0, 0, 0, 0, 0, 0, 0, 0, 0, 0, 0, 0, 1, 0, 0, 0,\n",
       "       0, 0, 0, 0, 0, 0, 1, 0, 1, 0, 0, 1])"
      ]
     },
     "execution_count": 19,
     "metadata": {},
     "output_type": "execute_result"
    }
   ],
   "source": [
    "y"
   ]
  },
  {
   "cell_type": "code",
   "execution_count": 20,
   "id": "7be73162b5ec7aad",
   "metadata": {
    "ExecuteTime": {
     "end_time": "2023-10-27T04:55:55.502965900Z",
     "start_time": "2023-10-27T04:55:55.471660200Z"
    },
    "collapsed": false
   },
   "outputs": [
    {
     "name": "stdout",
     "output_type": "stream",
     "text": [
      "<class 'pandas.core.frame.DataFrame'>\n",
      "RangeIndex: 100 entries, 0 to 99\n",
      "Columns: 592 entries, Unnamed: 0 to Good/Bad\n",
      "dtypes: float64(494), int64(97), object(1)\n",
      "memory usage: 462.6+ KB\n"
     ]
    }
   ],
   "source": [
    "df.info()\n",
    "# df.size()"
   ]
  },
  {
   "cell_type": "code",
   "execution_count": 11,
   "id": "9dd88a84e5d320a2",
   "metadata": {
    "ExecuteTime": {
     "end_time": "2023-10-27T04:51:01.416959900Z",
     "start_time": "2023-10-27T04:51:01.401115700Z"
    },
    "collapsed": false
   },
   "outputs": [
    {
     "name": "stdout",
     "output_type": "stream",
     "text": [
      "<class 'pandas.core.series.Series'>\n",
      "RangeIndex: 100 entries, 0 to 99\n",
      "Series name: Unnamed: 0\n",
      "Non-Null Count  Dtype \n",
      "--------------  ----- \n",
      "100 non-null    object\n",
      "dtypes: object(1)\n",
      "memory usage: 932.0+ bytes\n"
     ]
    }
   ],
   "source": [
    "df['Unnamed: 0'].info()"
   ]
  },
  {
   "cell_type": "code",
   "execution_count": 12,
   "id": "fdbbecd8e4356d3b",
   "metadata": {
    "ExecuteTime": {
     "end_time": "2023-10-27T04:51:15.444350200Z",
     "start_time": "2023-10-27T04:51:14.150782Z"
    },
    "collapsed": false
   },
   "outputs": [
    {
     "data": {
      "text/html": [
       "<div>\n",
       "<style scoped>\n",
       "    .dataframe tbody tr th:only-of-type {\n",
       "        vertical-align: middle;\n",
       "    }\n",
       "\n",
       "    .dataframe tbody tr th {\n",
       "        vertical-align: top;\n",
       "    }\n",
       "\n",
       "    .dataframe thead th {\n",
       "        text-align: right;\n",
       "    }\n",
       "</style>\n",
       "<table border=\"1\" class=\"dataframe\">\n",
       "  <thead>\n",
       "    <tr style=\"text-align: right;\">\n",
       "      <th></th>\n",
       "      <th>Sensor-1</th>\n",
       "      <th>Sensor-2</th>\n",
       "      <th>Sensor-3</th>\n",
       "      <th>Sensor-4</th>\n",
       "      <th>Sensor-5</th>\n",
       "      <th>Sensor-6</th>\n",
       "      <th>Sensor-7</th>\n",
       "      <th>Sensor-8</th>\n",
       "      <th>Sensor-9</th>\n",
       "      <th>Sensor-10</th>\n",
       "      <th>...</th>\n",
       "      <th>Sensor-582</th>\n",
       "      <th>Sensor-583</th>\n",
       "      <th>Sensor-584</th>\n",
       "      <th>Sensor-585</th>\n",
       "      <th>Sensor-586</th>\n",
       "      <th>Sensor-587</th>\n",
       "      <th>Sensor-588</th>\n",
       "      <th>Sensor-589</th>\n",
       "      <th>Sensor-590</th>\n",
       "      <th>Good/Bad</th>\n",
       "    </tr>\n",
       "  </thead>\n",
       "  <tbody>\n",
       "    <tr>\n",
       "      <th>count</th>\n",
       "      <td>99.000000</td>\n",
       "      <td>100.000000</td>\n",
       "      <td>97.000000</td>\n",
       "      <td>97.000000</td>\n",
       "      <td>97.000000</td>\n",
       "      <td>97.0</td>\n",
       "      <td>97.000000</td>\n",
       "      <td>97.000000</td>\n",
       "      <td>100.000000</td>\n",
       "      <td>100.000000</td>\n",
       "      <td>...</td>\n",
       "      <td>34.000000</td>\n",
       "      <td>100.000000</td>\n",
       "      <td>100.000000</td>\n",
       "      <td>100.000000</td>\n",
       "      <td>100.000000</td>\n",
       "      <td>100.000000</td>\n",
       "      <td>100.000000</td>\n",
       "      <td>100.000000</td>\n",
       "      <td>100.000000</td>\n",
       "      <td>100.000000</td>\n",
       "    </tr>\n",
       "    <tr>\n",
       "      <th>mean</th>\n",
       "      <td>3017.301212</td>\n",
       "      <td>2487.180300</td>\n",
       "      <td>2202.168281</td>\n",
       "      <td>1484.362181</td>\n",
       "      <td>1.180367</td>\n",
       "      <td>100.0</td>\n",
       "      <td>97.449088</td>\n",
       "      <td>0.122195</td>\n",
       "      <td>1.461516</td>\n",
       "      <td>0.000243</td>\n",
       "      <td>...</td>\n",
       "      <td>74.331709</td>\n",
       "      <td>0.499390</td>\n",
       "      <td>0.013615</td>\n",
       "      <td>0.003549</td>\n",
       "      <td>2.727297</td>\n",
       "      <td>0.023510</td>\n",
       "      <td>0.014875</td>\n",
       "      <td>0.004685</td>\n",
       "      <td>77.430241</td>\n",
       "      <td>-0.880000</td>\n",
       "    </tr>\n",
       "    <tr>\n",
       "      <th>std</th>\n",
       "      <td>71.819707</td>\n",
       "      <td>66.954212</td>\n",
       "      <td>30.350606</td>\n",
       "      <td>460.985871</td>\n",
       "      <td>0.349654</td>\n",
       "      <td>0.0</td>\n",
       "      <td>5.553324</td>\n",
       "      <td>0.002006</td>\n",
       "      <td>0.071300</td>\n",
       "      <td>0.010610</td>\n",
       "      <td>...</td>\n",
       "      <td>41.857728</td>\n",
       "      <td>0.003431</td>\n",
       "      <td>0.004344</td>\n",
       "      <td>0.000873</td>\n",
       "      <td>0.875848</td>\n",
       "      <td>0.011991</td>\n",
       "      <td>0.007557</td>\n",
       "      <td>0.002527</td>\n",
       "      <td>55.106166</td>\n",
       "      <td>0.477367</td>\n",
       "    </tr>\n",
       "    <tr>\n",
       "      <th>min</th>\n",
       "      <td>2825.670000</td>\n",
       "      <td>2254.990000</td>\n",
       "      <td>2114.666700</td>\n",
       "      <td>978.783200</td>\n",
       "      <td>0.753100</td>\n",
       "      <td>100.0</td>\n",
       "      <td>83.423300</td>\n",
       "      <td>0.116000</td>\n",
       "      <td>1.317900</td>\n",
       "      <td>-0.027900</td>\n",
       "      <td>...</td>\n",
       "      <td>20.309100</td>\n",
       "      <td>0.492500</td>\n",
       "      <td>0.007600</td>\n",
       "      <td>0.002100</td>\n",
       "      <td>1.515200</td>\n",
       "      <td>0.009900</td>\n",
       "      <td>0.004800</td>\n",
       "      <td>0.001700</td>\n",
       "      <td>20.309100</td>\n",
       "      <td>-1.000000</td>\n",
       "    </tr>\n",
       "    <tr>\n",
       "      <th>25%</th>\n",
       "      <td>2973.040000</td>\n",
       "      <td>2446.595000</td>\n",
       "      <td>2189.966700</td>\n",
       "      <td>1111.543600</td>\n",
       "      <td>0.837300</td>\n",
       "      <td>100.0</td>\n",
       "      <td>95.108900</td>\n",
       "      <td>0.120800</td>\n",
       "      <td>1.407375</td>\n",
       "      <td>-0.006925</td>\n",
       "      <td>...</td>\n",
       "      <td>47.356000</td>\n",
       "      <td>0.497300</td>\n",
       "      <td>0.011300</td>\n",
       "      <td>0.003075</td>\n",
       "      <td>2.270425</td>\n",
       "      <td>0.013400</td>\n",
       "      <td>0.009475</td>\n",
       "      <td>0.002700</td>\n",
       "      <td>33.787600</td>\n",
       "      <td>-1.000000</td>\n",
       "    </tr>\n",
       "    <tr>\n",
       "      <th>50%</th>\n",
       "      <td>3004.390000</td>\n",
       "      <td>2493.890000</td>\n",
       "      <td>2200.988900</td>\n",
       "      <td>1244.289900</td>\n",
       "      <td>1.156900</td>\n",
       "      <td>100.0</td>\n",
       "      <td>99.513300</td>\n",
       "      <td>0.122200</td>\n",
       "      <td>1.453700</td>\n",
       "      <td>0.001000</td>\n",
       "      <td>...</td>\n",
       "      <td>65.127550</td>\n",
       "      <td>0.499400</td>\n",
       "      <td>0.012750</td>\n",
       "      <td>0.003400</td>\n",
       "      <td>2.546400</td>\n",
       "      <td>0.021800</td>\n",
       "      <td>0.013900</td>\n",
       "      <td>0.003850</td>\n",
       "      <td>62.059500</td>\n",
       "      <td>-1.000000</td>\n",
       "    </tr>\n",
       "    <tr>\n",
       "      <th>75%</th>\n",
       "      <td>3070.385000</td>\n",
       "      <td>2527.525000</td>\n",
       "      <td>2213.211100</td>\n",
       "      <td>1963.801600</td>\n",
       "      <td>1.383000</td>\n",
       "      <td>100.0</td>\n",
       "      <td>101.457800</td>\n",
       "      <td>0.123400</td>\n",
       "      <td>1.507425</td>\n",
       "      <td>0.008125</td>\n",
       "      <td>...</td>\n",
       "      <td>99.419050</td>\n",
       "      <td>0.501525</td>\n",
       "      <td>0.014700</td>\n",
       "      <td>0.003825</td>\n",
       "      <td>2.953750</td>\n",
       "      <td>0.028025</td>\n",
       "      <td>0.019200</td>\n",
       "      <td>0.005900</td>\n",
       "      <td>104.303400</td>\n",
       "      <td>-1.000000</td>\n",
       "    </tr>\n",
       "    <tr>\n",
       "      <th>max</th>\n",
       "      <td>3221.210000</td>\n",
       "      <td>2664.520000</td>\n",
       "      <td>2315.266700</td>\n",
       "      <td>2363.641200</td>\n",
       "      <td>2.207300</td>\n",
       "      <td>100.0</td>\n",
       "      <td>107.152200</td>\n",
       "      <td>0.126200</td>\n",
       "      <td>1.641100</td>\n",
       "      <td>0.025000</td>\n",
       "      <td>...</td>\n",
       "      <td>223.101800</td>\n",
       "      <td>0.508700</td>\n",
       "      <td>0.043700</td>\n",
       "      <td>0.008900</td>\n",
       "      <td>8.816000</td>\n",
       "      <td>0.054500</td>\n",
       "      <td>0.040100</td>\n",
       "      <td>0.015000</td>\n",
       "      <td>223.101800</td>\n",
       "      <td>1.000000</td>\n",
       "    </tr>\n",
       "  </tbody>\n",
       "</table>\n",
       "<p>8 rows × 591 columns</p>\n",
       "</div>"
      ],
      "text/plain": [
       "          Sensor-1     Sensor-2     Sensor-3     Sensor-4   Sensor-5  \\\n",
       "count    99.000000   100.000000    97.000000    97.000000  97.000000   \n",
       "mean   3017.301212  2487.180300  2202.168281  1484.362181   1.180367   \n",
       "std      71.819707    66.954212    30.350606   460.985871   0.349654   \n",
       "min    2825.670000  2254.990000  2114.666700   978.783200   0.753100   \n",
       "25%    2973.040000  2446.595000  2189.966700  1111.543600   0.837300   \n",
       "50%    3004.390000  2493.890000  2200.988900  1244.289900   1.156900   \n",
       "75%    3070.385000  2527.525000  2213.211100  1963.801600   1.383000   \n",
       "max    3221.210000  2664.520000  2315.266700  2363.641200   2.207300   \n",
       "\n",
       "       Sensor-6    Sensor-7   Sensor-8    Sensor-9   Sensor-10  ...  \\\n",
       "count      97.0   97.000000  97.000000  100.000000  100.000000  ...   \n",
       "mean      100.0   97.449088   0.122195    1.461516    0.000243  ...   \n",
       "std         0.0    5.553324   0.002006    0.071300    0.010610  ...   \n",
       "min       100.0   83.423300   0.116000    1.317900   -0.027900  ...   \n",
       "25%       100.0   95.108900   0.120800    1.407375   -0.006925  ...   \n",
       "50%       100.0   99.513300   0.122200    1.453700    0.001000  ...   \n",
       "75%       100.0  101.457800   0.123400    1.507425    0.008125  ...   \n",
       "max       100.0  107.152200   0.126200    1.641100    0.025000  ...   \n",
       "\n",
       "       Sensor-582  Sensor-583  Sensor-584  Sensor-585  Sensor-586  Sensor-587  \\\n",
       "count   34.000000  100.000000  100.000000  100.000000  100.000000  100.000000   \n",
       "mean    74.331709    0.499390    0.013615    0.003549    2.727297    0.023510   \n",
       "std     41.857728    0.003431    0.004344    0.000873    0.875848    0.011991   \n",
       "min     20.309100    0.492500    0.007600    0.002100    1.515200    0.009900   \n",
       "25%     47.356000    0.497300    0.011300    0.003075    2.270425    0.013400   \n",
       "50%     65.127550    0.499400    0.012750    0.003400    2.546400    0.021800   \n",
       "75%     99.419050    0.501525    0.014700    0.003825    2.953750    0.028025   \n",
       "max    223.101800    0.508700    0.043700    0.008900    8.816000    0.054500   \n",
       "\n",
       "       Sensor-588  Sensor-589  Sensor-590    Good/Bad  \n",
       "count  100.000000  100.000000  100.000000  100.000000  \n",
       "mean     0.014875    0.004685   77.430241   -0.880000  \n",
       "std      0.007557    0.002527   55.106166    0.477367  \n",
       "min      0.004800    0.001700   20.309100   -1.000000  \n",
       "25%      0.009475    0.002700   33.787600   -1.000000  \n",
       "50%      0.013900    0.003850   62.059500   -1.000000  \n",
       "75%      0.019200    0.005900  104.303400   -1.000000  \n",
       "max      0.040100    0.015000  223.101800    1.000000  \n",
       "\n",
       "[8 rows x 591 columns]"
      ]
     },
     "execution_count": 12,
     "metadata": {},
     "output_type": "execute_result"
    }
   ],
   "source": [
    "df.describe()"
   ]
  },
  {
   "cell_type": "code",
   "execution_count": 13,
   "id": "20707d1c1d2d494e",
   "metadata": {
    "ExecuteTime": {
     "end_time": "2023-10-27T04:51:30.986600700Z",
     "start_time": "2023-10-27T04:51:30.968929Z"
    },
    "collapsed": false
   },
   "outputs": [
    {
     "data": {
      "text/plain": [
       "Unnamed: 0    0\n",
       "Sensor-1      1\n",
       "Sensor-2      0\n",
       "Sensor-3      3\n",
       "Sensor-4      3\n",
       "             ..\n",
       "Sensor-587    0\n",
       "Sensor-588    0\n",
       "Sensor-589    0\n",
       "Sensor-590    0\n",
       "Good/Bad      0\n",
       "Length: 592, dtype: int64"
      ]
     },
     "execution_count": 13,
     "metadata": {},
     "output_type": "execute_result"
    }
   ],
   "source": [
    "df.isnull().sum()"
   ]
  },
  {
   "cell_type": "code",
   "execution_count": 15,
   "id": "a6acb430879c2128",
   "metadata": {
    "ExecuteTime": {
     "end_time": "2023-10-27T04:52:02.291015600Z",
     "start_time": "2023-10-27T04:52:02.219621800Z"
    },
    "collapsed": false
   },
   "outputs": [
    {
     "data": {
      "text/plain": [
       "Unnamed: 0      0\n",
       "Sensor-1      0.0\n",
       "Sensor-2      0.0\n",
       "Sensor-3      0.0\n",
       "Sensor-4      0.0\n",
       "             ... \n",
       "Sensor-587    0.0\n",
       "Sensor-588    0.0\n",
       "Sensor-589    0.0\n",
       "Sensor-590    0.0\n",
       "Good/Bad        0\n",
       "Length: 592, dtype: object"
      ]
     },
     "execution_count": 15,
     "metadata": {},
     "output_type": "execute_result"
    }
   ],
   "source": [
    "df[df.duplicated()].sum()"
   ]
  },
  {
   "cell_type": "code",
   "execution_count": 16,
   "id": "15895da6d7363469",
   "metadata": {
    "ExecuteTime": {
     "end_time": "2023-10-27T04:52:20.508811400Z",
     "start_time": "2023-10-27T04:52:20.260889500Z"
    },
    "collapsed": false
   },
   "outputs": [
    {
     "data": {
      "text/html": [
       "<div>\n",
       "<style scoped>\n",
       "    .dataframe tbody tr th:only-of-type {\n",
       "        vertical-align: middle;\n",
       "    }\n",
       "\n",
       "    .dataframe tbody tr th {\n",
       "        vertical-align: top;\n",
       "    }\n",
       "\n",
       "    .dataframe thead th {\n",
       "        text-align: right;\n",
       "    }\n",
       "</style>\n",
       "<table border=\"1\" class=\"dataframe\">\n",
       "  <thead>\n",
       "    <tr style=\"text-align: right;\">\n",
       "      <th></th>\n",
       "      <th>Unnamed: 0</th>\n",
       "      <th>Sensor-1</th>\n",
       "      <th>Sensor-2</th>\n",
       "      <th>Sensor-3</th>\n",
       "      <th>Sensor-4</th>\n",
       "      <th>Sensor-5</th>\n",
       "      <th>Sensor-6</th>\n",
       "      <th>Sensor-7</th>\n",
       "      <th>Sensor-8</th>\n",
       "      <th>Sensor-9</th>\n",
       "      <th>...</th>\n",
       "      <th>Sensor-582</th>\n",
       "      <th>Sensor-583</th>\n",
       "      <th>Sensor-584</th>\n",
       "      <th>Sensor-585</th>\n",
       "      <th>Sensor-586</th>\n",
       "      <th>Sensor-587</th>\n",
       "      <th>Sensor-588</th>\n",
       "      <th>Sensor-589</th>\n",
       "      <th>Sensor-590</th>\n",
       "      <th>Good/Bad</th>\n",
       "    </tr>\n",
       "  </thead>\n",
       "  <tbody>\n",
       "    <tr>\n",
       "      <th>0</th>\n",
       "      <td>NaN</td>\n",
       "      <td>NaN</td>\n",
       "      <td>NaN</td>\n",
       "      <td>NaN</td>\n",
       "      <td>NaN</td>\n",
       "      <td>NaN</td>\n",
       "      <td>NaN</td>\n",
       "      <td>NaN</td>\n",
       "      <td>NaN</td>\n",
       "      <td>NaN</td>\n",
       "      <td>...</td>\n",
       "      <td>NaN</td>\n",
       "      <td>NaN</td>\n",
       "      <td>NaN</td>\n",
       "      <td>NaN</td>\n",
       "      <td>NaN</td>\n",
       "      <td>NaN</td>\n",
       "      <td>NaN</td>\n",
       "      <td>NaN</td>\n",
       "      <td>NaN</td>\n",
       "      <td>NaN</td>\n",
       "    </tr>\n",
       "    <tr>\n",
       "      <th>1</th>\n",
       "      <td>NaN</td>\n",
       "      <td>NaN</td>\n",
       "      <td>NaN</td>\n",
       "      <td>NaN</td>\n",
       "      <td>NaN</td>\n",
       "      <td>NaN</td>\n",
       "      <td>NaN</td>\n",
       "      <td>NaN</td>\n",
       "      <td>NaN</td>\n",
       "      <td>NaN</td>\n",
       "      <td>...</td>\n",
       "      <td>NaN</td>\n",
       "      <td>NaN</td>\n",
       "      <td>NaN</td>\n",
       "      <td>NaN</td>\n",
       "      <td>NaN</td>\n",
       "      <td>NaN</td>\n",
       "      <td>NaN</td>\n",
       "      <td>NaN</td>\n",
       "      <td>NaN</td>\n",
       "      <td>NaN</td>\n",
       "    </tr>\n",
       "    <tr>\n",
       "      <th>2</th>\n",
       "      <td>NaN</td>\n",
       "      <td>NaN</td>\n",
       "      <td>NaN</td>\n",
       "      <td>NaN</td>\n",
       "      <td>NaN</td>\n",
       "      <td>NaN</td>\n",
       "      <td>NaN</td>\n",
       "      <td>NaN</td>\n",
       "      <td>NaN</td>\n",
       "      <td>NaN</td>\n",
       "      <td>...</td>\n",
       "      <td>NaN</td>\n",
       "      <td>NaN</td>\n",
       "      <td>NaN</td>\n",
       "      <td>NaN</td>\n",
       "      <td>NaN</td>\n",
       "      <td>NaN</td>\n",
       "      <td>NaN</td>\n",
       "      <td>NaN</td>\n",
       "      <td>NaN</td>\n",
       "      <td>NaN</td>\n",
       "    </tr>\n",
       "    <tr>\n",
       "      <th>3</th>\n",
       "      <td>NaN</td>\n",
       "      <td>NaN</td>\n",
       "      <td>NaN</td>\n",
       "      <td>NaN</td>\n",
       "      <td>NaN</td>\n",
       "      <td>NaN</td>\n",
       "      <td>NaN</td>\n",
       "      <td>NaN</td>\n",
       "      <td>NaN</td>\n",
       "      <td>NaN</td>\n",
       "      <td>...</td>\n",
       "      <td>NaN</td>\n",
       "      <td>NaN</td>\n",
       "      <td>NaN</td>\n",
       "      <td>NaN</td>\n",
       "      <td>NaN</td>\n",
       "      <td>NaN</td>\n",
       "      <td>NaN</td>\n",
       "      <td>NaN</td>\n",
       "      <td>NaN</td>\n",
       "      <td>NaN</td>\n",
       "    </tr>\n",
       "    <tr>\n",
       "      <th>4</th>\n",
       "      <td>NaN</td>\n",
       "      <td>NaN</td>\n",
       "      <td>NaN</td>\n",
       "      <td>NaN</td>\n",
       "      <td>NaN</td>\n",
       "      <td>NaN</td>\n",
       "      <td>NaN</td>\n",
       "      <td>NaN</td>\n",
       "      <td>NaN</td>\n",
       "      <td>NaN</td>\n",
       "      <td>...</td>\n",
       "      <td>NaN</td>\n",
       "      <td>NaN</td>\n",
       "      <td>NaN</td>\n",
       "      <td>NaN</td>\n",
       "      <td>NaN</td>\n",
       "      <td>NaN</td>\n",
       "      <td>NaN</td>\n",
       "      <td>NaN</td>\n",
       "      <td>NaN</td>\n",
       "      <td>NaN</td>\n",
       "    </tr>\n",
       "    <tr>\n",
       "      <th>...</th>\n",
       "      <td>...</td>\n",
       "      <td>...</td>\n",
       "      <td>...</td>\n",
       "      <td>...</td>\n",
       "      <td>...</td>\n",
       "      <td>...</td>\n",
       "      <td>...</td>\n",
       "      <td>...</td>\n",
       "      <td>...</td>\n",
       "      <td>...</td>\n",
       "      <td>...</td>\n",
       "      <td>...</td>\n",
       "      <td>...</td>\n",
       "      <td>...</td>\n",
       "      <td>...</td>\n",
       "      <td>...</td>\n",
       "      <td>...</td>\n",
       "      <td>...</td>\n",
       "      <td>...</td>\n",
       "      <td>...</td>\n",
       "      <td>...</td>\n",
       "    </tr>\n",
       "    <tr>\n",
       "      <th>95</th>\n",
       "      <td>NaN</td>\n",
       "      <td>NaN</td>\n",
       "      <td>NaN</td>\n",
       "      <td>NaN</td>\n",
       "      <td>NaN</td>\n",
       "      <td>NaN</td>\n",
       "      <td>NaN</td>\n",
       "      <td>NaN</td>\n",
       "      <td>NaN</td>\n",
       "      <td>NaN</td>\n",
       "      <td>...</td>\n",
       "      <td>NaN</td>\n",
       "      <td>NaN</td>\n",
       "      <td>NaN</td>\n",
       "      <td>NaN</td>\n",
       "      <td>NaN</td>\n",
       "      <td>NaN</td>\n",
       "      <td>NaN</td>\n",
       "      <td>NaN</td>\n",
       "      <td>NaN</td>\n",
       "      <td>NaN</td>\n",
       "    </tr>\n",
       "    <tr>\n",
       "      <th>96</th>\n",
       "      <td>NaN</td>\n",
       "      <td>NaN</td>\n",
       "      <td>NaN</td>\n",
       "      <td>NaN</td>\n",
       "      <td>NaN</td>\n",
       "      <td>NaN</td>\n",
       "      <td>NaN</td>\n",
       "      <td>NaN</td>\n",
       "      <td>NaN</td>\n",
       "      <td>NaN</td>\n",
       "      <td>...</td>\n",
       "      <td>NaN</td>\n",
       "      <td>NaN</td>\n",
       "      <td>NaN</td>\n",
       "      <td>NaN</td>\n",
       "      <td>NaN</td>\n",
       "      <td>NaN</td>\n",
       "      <td>NaN</td>\n",
       "      <td>NaN</td>\n",
       "      <td>NaN</td>\n",
       "      <td>NaN</td>\n",
       "    </tr>\n",
       "    <tr>\n",
       "      <th>97</th>\n",
       "      <td>NaN</td>\n",
       "      <td>NaN</td>\n",
       "      <td>NaN</td>\n",
       "      <td>NaN</td>\n",
       "      <td>NaN</td>\n",
       "      <td>NaN</td>\n",
       "      <td>NaN</td>\n",
       "      <td>NaN</td>\n",
       "      <td>NaN</td>\n",
       "      <td>NaN</td>\n",
       "      <td>...</td>\n",
       "      <td>NaN</td>\n",
       "      <td>NaN</td>\n",
       "      <td>NaN</td>\n",
       "      <td>NaN</td>\n",
       "      <td>NaN</td>\n",
       "      <td>NaN</td>\n",
       "      <td>NaN</td>\n",
       "      <td>NaN</td>\n",
       "      <td>NaN</td>\n",
       "      <td>NaN</td>\n",
       "    </tr>\n",
       "    <tr>\n",
       "      <th>98</th>\n",
       "      <td>NaN</td>\n",
       "      <td>NaN</td>\n",
       "      <td>NaN</td>\n",
       "      <td>NaN</td>\n",
       "      <td>NaN</td>\n",
       "      <td>NaN</td>\n",
       "      <td>NaN</td>\n",
       "      <td>NaN</td>\n",
       "      <td>NaN</td>\n",
       "      <td>NaN</td>\n",
       "      <td>...</td>\n",
       "      <td>NaN</td>\n",
       "      <td>NaN</td>\n",
       "      <td>NaN</td>\n",
       "      <td>NaN</td>\n",
       "      <td>NaN</td>\n",
       "      <td>NaN</td>\n",
       "      <td>NaN</td>\n",
       "      <td>NaN</td>\n",
       "      <td>NaN</td>\n",
       "      <td>NaN</td>\n",
       "    </tr>\n",
       "    <tr>\n",
       "      <th>99</th>\n",
       "      <td>NaN</td>\n",
       "      <td>NaN</td>\n",
       "      <td>NaN</td>\n",
       "      <td>NaN</td>\n",
       "      <td>NaN</td>\n",
       "      <td>NaN</td>\n",
       "      <td>NaN</td>\n",
       "      <td>NaN</td>\n",
       "      <td>NaN</td>\n",
       "      <td>NaN</td>\n",
       "      <td>...</td>\n",
       "      <td>NaN</td>\n",
       "      <td>NaN</td>\n",
       "      <td>NaN</td>\n",
       "      <td>NaN</td>\n",
       "      <td>NaN</td>\n",
       "      <td>NaN</td>\n",
       "      <td>NaN</td>\n",
       "      <td>NaN</td>\n",
       "      <td>NaN</td>\n",
       "      <td>NaN</td>\n",
       "    </tr>\n",
       "  </tbody>\n",
       "</table>\n",
       "<p>100 rows × 592 columns</p>\n",
       "</div>"
      ],
      "text/plain": [
       "   Unnamed: 0  Sensor-1  Sensor-2  Sensor-3  Sensor-4  Sensor-5  Sensor-6  \\\n",
       "0         NaN       NaN       NaN       NaN       NaN       NaN       NaN   \n",
       "1         NaN       NaN       NaN       NaN       NaN       NaN       NaN   \n",
       "2         NaN       NaN       NaN       NaN       NaN       NaN       NaN   \n",
       "3         NaN       NaN       NaN       NaN       NaN       NaN       NaN   \n",
       "4         NaN       NaN       NaN       NaN       NaN       NaN       NaN   \n",
       "..        ...       ...       ...       ...       ...       ...       ...   \n",
       "95        NaN       NaN       NaN       NaN       NaN       NaN       NaN   \n",
       "96        NaN       NaN       NaN       NaN       NaN       NaN       NaN   \n",
       "97        NaN       NaN       NaN       NaN       NaN       NaN       NaN   \n",
       "98        NaN       NaN       NaN       NaN       NaN       NaN       NaN   \n",
       "99        NaN       NaN       NaN       NaN       NaN       NaN       NaN   \n",
       "\n",
       "    Sensor-7  Sensor-8  Sensor-9  ...  Sensor-582  Sensor-583  Sensor-584  \\\n",
       "0        NaN       NaN       NaN  ...         NaN         NaN         NaN   \n",
       "1        NaN       NaN       NaN  ...         NaN         NaN         NaN   \n",
       "2        NaN       NaN       NaN  ...         NaN         NaN         NaN   \n",
       "3        NaN       NaN       NaN  ...         NaN         NaN         NaN   \n",
       "4        NaN       NaN       NaN  ...         NaN         NaN         NaN   \n",
       "..       ...       ...       ...  ...         ...         ...         ...   \n",
       "95       NaN       NaN       NaN  ...         NaN         NaN         NaN   \n",
       "96       NaN       NaN       NaN  ...         NaN         NaN         NaN   \n",
       "97       NaN       NaN       NaN  ...         NaN         NaN         NaN   \n",
       "98       NaN       NaN       NaN  ...         NaN         NaN         NaN   \n",
       "99       NaN       NaN       NaN  ...         NaN         NaN         NaN   \n",
       "\n",
       "    Sensor-585  Sensor-586  Sensor-587  Sensor-588  Sensor-589  Sensor-590  \\\n",
       "0          NaN         NaN         NaN         NaN         NaN         NaN   \n",
       "1          NaN         NaN         NaN         NaN         NaN         NaN   \n",
       "2          NaN         NaN         NaN         NaN         NaN         NaN   \n",
       "3          NaN         NaN         NaN         NaN         NaN         NaN   \n",
       "4          NaN         NaN         NaN         NaN         NaN         NaN   \n",
       "..         ...         ...         ...         ...         ...         ...   \n",
       "95         NaN         NaN         NaN         NaN         NaN         NaN   \n",
       "96         NaN         NaN         NaN         NaN         NaN         NaN   \n",
       "97         NaN         NaN         NaN         NaN         NaN         NaN   \n",
       "98         NaN         NaN         NaN         NaN         NaN         NaN   \n",
       "99         NaN         NaN         NaN         NaN         NaN         NaN   \n",
       "\n",
       "    Good/Bad  \n",
       "0        NaN  \n",
       "1        NaN  \n",
       "2        NaN  \n",
       "3        NaN  \n",
       "4        NaN  \n",
       "..       ...  \n",
       "95       NaN  \n",
       "96       NaN  \n",
       "97       NaN  \n",
       "98       NaN  \n",
       "99       NaN  \n",
       "\n",
       "[100 rows x 592 columns]"
      ]
     },
     "execution_count": 16,
     "metadata": {},
     "output_type": "execute_result"
    }
   ],
   "source": [
    "df[df.isnull()]"
   ]
  },
  {
   "cell_type": "code",
   "execution_count": 21,
   "id": "f3c28b3cc92b310a",
   "metadata": {
    "ExecuteTime": {
     "end_time": "2023-10-27T04:56:02.013704400Z",
     "start_time": "2023-10-27T04:56:01.963619600Z"
    },
    "collapsed": false
   },
   "outputs": [
    {
     "data": {
      "text/html": [
       "<div>\n",
       "<style scoped>\n",
       "    .dataframe tbody tr th:only-of-type {\n",
       "        vertical-align: middle;\n",
       "    }\n",
       "\n",
       "    .dataframe tbody tr th {\n",
       "        vertical-align: top;\n",
       "    }\n",
       "\n",
       "    .dataframe thead th {\n",
       "        text-align: right;\n",
       "    }\n",
       "</style>\n",
       "<table border=\"1\" class=\"dataframe\">\n",
       "  <thead>\n",
       "    <tr style=\"text-align: right;\">\n",
       "      <th></th>\n",
       "      <th>Unnamed: 0</th>\n",
       "      <th>Sensor-1</th>\n",
       "      <th>Sensor-2</th>\n",
       "      <th>Sensor-3</th>\n",
       "      <th>Sensor-4</th>\n",
       "      <th>Sensor-5</th>\n",
       "      <th>Sensor-6</th>\n",
       "      <th>Sensor-7</th>\n",
       "      <th>Sensor-8</th>\n",
       "      <th>Sensor-9</th>\n",
       "      <th>...</th>\n",
       "      <th>Sensor-582</th>\n",
       "      <th>Sensor-583</th>\n",
       "      <th>Sensor-584</th>\n",
       "      <th>Sensor-585</th>\n",
       "      <th>Sensor-586</th>\n",
       "      <th>Sensor-587</th>\n",
       "      <th>Sensor-588</th>\n",
       "      <th>Sensor-589</th>\n",
       "      <th>Sensor-590</th>\n",
       "      <th>Good/Bad</th>\n",
       "    </tr>\n",
       "  </thead>\n",
       "  <tbody>\n",
       "    <tr>\n",
       "      <th>0</th>\n",
       "      <td>Wafer-801</td>\n",
       "      <td>2968.33</td>\n",
       "      <td>2476.58</td>\n",
       "      <td>2216.7333</td>\n",
       "      <td>1748.0885</td>\n",
       "      <td>1.1127</td>\n",
       "      <td>100.0</td>\n",
       "      <td>97.5822</td>\n",
       "      <td>0.1242</td>\n",
       "      <td>1.5300</td>\n",
       "      <td>...</td>\n",
       "      <td>NaN</td>\n",
       "      <td>0.5004</td>\n",
       "      <td>0.0120</td>\n",
       "      <td>0.0033</td>\n",
       "      <td>2.4069</td>\n",
       "      <td>0.0545</td>\n",
       "      <td>0.0184</td>\n",
       "      <td>0.0055</td>\n",
       "      <td>33.7876</td>\n",
       "      <td>-1</td>\n",
       "    </tr>\n",
       "    <tr>\n",
       "      <th>1</th>\n",
       "      <td>Wafer-802</td>\n",
       "      <td>2961.04</td>\n",
       "      <td>2506.43</td>\n",
       "      <td>2170.0666</td>\n",
       "      <td>1364.5157</td>\n",
       "      <td>1.5447</td>\n",
       "      <td>100.0</td>\n",
       "      <td>96.7700</td>\n",
       "      <td>0.1230</td>\n",
       "      <td>1.3953</td>\n",
       "      <td>...</td>\n",
       "      <td>NaN</td>\n",
       "      <td>0.4994</td>\n",
       "      <td>0.0115</td>\n",
       "      <td>0.0031</td>\n",
       "      <td>2.3020</td>\n",
       "      <td>0.0545</td>\n",
       "      <td>0.0184</td>\n",
       "      <td>0.0055</td>\n",
       "      <td>33.7876</td>\n",
       "      <td>1</td>\n",
       "    </tr>\n",
       "    <tr>\n",
       "      <th>2</th>\n",
       "      <td>Wafer-803</td>\n",
       "      <td>3072.03</td>\n",
       "      <td>2500.68</td>\n",
       "      <td>2205.7445</td>\n",
       "      <td>1363.1048</td>\n",
       "      <td>1.0518</td>\n",
       "      <td>100.0</td>\n",
       "      <td>101.8644</td>\n",
       "      <td>0.1220</td>\n",
       "      <td>1.3896</td>\n",
       "      <td>...</td>\n",
       "      <td>NaN</td>\n",
       "      <td>0.4987</td>\n",
       "      <td>0.0118</td>\n",
       "      <td>0.0036</td>\n",
       "      <td>2.3719</td>\n",
       "      <td>0.0545</td>\n",
       "      <td>0.0184</td>\n",
       "      <td>0.0055</td>\n",
       "      <td>33.7876</td>\n",
       "      <td>-1</td>\n",
       "    </tr>\n",
       "    <tr>\n",
       "      <th>3</th>\n",
       "      <td>Wafer-804</td>\n",
       "      <td>3021.83</td>\n",
       "      <td>2419.83</td>\n",
       "      <td>2205.7445</td>\n",
       "      <td>1363.1048</td>\n",
       "      <td>1.0518</td>\n",
       "      <td>100.0</td>\n",
       "      <td>101.8644</td>\n",
       "      <td>0.1220</td>\n",
       "      <td>1.4108</td>\n",
       "      <td>...</td>\n",
       "      <td>NaN</td>\n",
       "      <td>0.4934</td>\n",
       "      <td>0.0123</td>\n",
       "      <td>0.0040</td>\n",
       "      <td>2.4923</td>\n",
       "      <td>0.0545</td>\n",
       "      <td>0.0184</td>\n",
       "      <td>0.0055</td>\n",
       "      <td>33.7876</td>\n",
       "      <td>-1</td>\n",
       "    </tr>\n",
       "    <tr>\n",
       "      <th>4</th>\n",
       "      <td>Wafer-805</td>\n",
       "      <td>3006.95</td>\n",
       "      <td>2435.34</td>\n",
       "      <td>2189.8111</td>\n",
       "      <td>1084.6502</td>\n",
       "      <td>1.1993</td>\n",
       "      <td>100.0</td>\n",
       "      <td>104.8856</td>\n",
       "      <td>0.1234</td>\n",
       "      <td>1.5094</td>\n",
       "      <td>...</td>\n",
       "      <td>NaN</td>\n",
       "      <td>0.4987</td>\n",
       "      <td>0.0145</td>\n",
       "      <td>0.0041</td>\n",
       "      <td>2.8991</td>\n",
       "      <td>0.0545</td>\n",
       "      <td>0.0184</td>\n",
       "      <td>0.0055</td>\n",
       "      <td>33.7876</td>\n",
       "      <td>-1</td>\n",
       "    </tr>\n",
       "  </tbody>\n",
       "</table>\n",
       "<p>5 rows × 592 columns</p>\n",
       "</div>"
      ],
      "text/plain": [
       "  Unnamed: 0  Sensor-1  Sensor-2   Sensor-3   Sensor-4  Sensor-5  Sensor-6  \\\n",
       "0  Wafer-801   2968.33   2476.58  2216.7333  1748.0885    1.1127     100.0   \n",
       "1  Wafer-802   2961.04   2506.43  2170.0666  1364.5157    1.5447     100.0   \n",
       "2  Wafer-803   3072.03   2500.68  2205.7445  1363.1048    1.0518     100.0   \n",
       "3  Wafer-804   3021.83   2419.83  2205.7445  1363.1048    1.0518     100.0   \n",
       "4  Wafer-805   3006.95   2435.34  2189.8111  1084.6502    1.1993     100.0   \n",
       "\n",
       "   Sensor-7  Sensor-8  Sensor-9  ...  Sensor-582  Sensor-583  Sensor-584  \\\n",
       "0   97.5822    0.1242    1.5300  ...         NaN      0.5004      0.0120   \n",
       "1   96.7700    0.1230    1.3953  ...         NaN      0.4994      0.0115   \n",
       "2  101.8644    0.1220    1.3896  ...         NaN      0.4987      0.0118   \n",
       "3  101.8644    0.1220    1.4108  ...         NaN      0.4934      0.0123   \n",
       "4  104.8856    0.1234    1.5094  ...         NaN      0.4987      0.0145   \n",
       "\n",
       "   Sensor-585  Sensor-586  Sensor-587  Sensor-588  Sensor-589  Sensor-590  \\\n",
       "0      0.0033      2.4069      0.0545      0.0184      0.0055     33.7876   \n",
       "1      0.0031      2.3020      0.0545      0.0184      0.0055     33.7876   \n",
       "2      0.0036      2.3719      0.0545      0.0184      0.0055     33.7876   \n",
       "3      0.0040      2.4923      0.0545      0.0184      0.0055     33.7876   \n",
       "4      0.0041      2.8991      0.0545      0.0184      0.0055     33.7876   \n",
       "\n",
       "   Good/Bad  \n",
       "0        -1  \n",
       "1         1  \n",
       "2        -1  \n",
       "3        -1  \n",
       "4        -1  \n",
       "\n",
       "[5 rows x 592 columns]"
      ]
     },
     "execution_count": 21,
     "metadata": {},
     "output_type": "execute_result"
    }
   ],
   "source": [
    "df.head()"
   ]
  },
  {
   "cell_type": "code",
   "execution_count": 23,
   "id": "7f0afb9c485f449",
   "metadata": {
    "ExecuteTime": {
     "end_time": "2023-10-27T04:56:40.537779500Z",
     "start_time": "2023-10-27T04:56:40.490284200Z"
    },
    "collapsed": false
   },
   "outputs": [
    {
     "data": {
      "text/plain": [
       "(100, 592)"
      ]
     },
     "execution_count": 23,
     "metadata": {},
     "output_type": "execute_result"
    }
   ],
   "source": [
    "df.shape"
   ]
  },
  {
   "cell_type": "code",
   "execution_count": 31,
   "id": "518e920cf75827b0",
   "metadata": {
    "ExecuteTime": {
     "end_time": "2023-10-27T05:06:59.436454800Z",
     "start_time": "2023-10-27T05:06:58.977163Z"
    },
    "collapsed": false
   },
   "outputs": [
    {
     "data": {
      "image/png": "[encoded data removed]",
      "text/plain": [
       "<Figure size 1000x600 with 1 Axes>"
      ]
     },
     "metadata": {},
     "output_type": "display_data"
    }
   ],
   "source": [
    "plt.figure(figsize=(10, 6))\n",
    "plt.scatter(df.index, df['Sensor-1'], c=df['Good/Bad'], cmap='viridis')\n",
    "plt.xlabel('Index')\n",
    "plt.ylabel('Value')\n",
    "plt.title('Anomaly Detection Results')\n",
    "plt.show()\n"
   ]
  },
  {
   "cell_type": "code",
   "execution_count": 37,
   "id": "a2c3ac97891e151",
   "metadata": {
    "ExecuteTime": {
     "end_time": "2023-10-27T05:12:26.362961200Z",
     "start_time": "2023-10-27T05:12:10.707557500Z"
    },
    "collapsed": false
   },
   "outputs": [
    {
     "data": {
      "text/plain": [
       "<Axes: >"
      ]
     },
     "execution_count": 37,
     "metadata": {},
     "output_type": "execute_result"
    },
    {
     "data": {
      "image/png": "[encoded data removed]",
      "text/plain": [
       "<Figure size 640x480 with 1 Axes>"
      ]
     },
     "metadata": {},
     "output_type": "display_data"
    }
   ],
   "source": [
    "sns.boxplot(df)"
   ]
  },
  {
   "cell_type": "code",
   "execution_count": 40,
   "id": "b04b5c2339c5c9a8",
   "metadata": {
    "ExecuteTime": {
     "end_time": "2023-10-27T05:14:49.505941900Z",
     "start_time": "2023-10-27T05:14:49.406667500Z"
    },
    "collapsed": false
   },
   "outputs": [
    {
     "data": {
      "text/plain": [
       "Unnamed: 0    0.00\n",
       "Sensor-1      0.01\n",
       "Sensor-2      0.00\n",
       "Sensor-3      0.03\n",
       "Sensor-4      0.03\n",
       "              ... \n",
       "Sensor-587    0.00\n",
       "Sensor-588    0.00\n",
       "Sensor-589    0.00\n",
       "Sensor-590    0.00\n",
       "Good/Bad      0.00\n",
       "Length: 592, dtype: float64"
      ]
     },
     "execution_count": 40,
     "metadata": {},
     "output_type": "execute_result"
    }
   ],
   "source": [
    "df.isna().sum() / df.shape[0]"
   ]
  },
  {
   "cell_type": "code",
   "execution_count": 58,
   "id": "891ee9431030c2a0",
   "metadata": {
    "ExecuteTime": {
     "end_time": "2023-10-27T05:26:08.271218600Z",
     "start_time": "2023-10-27T05:26:08.221760300Z"
    },
    "collapsed": false
   },
   "outputs": [
    {
     "data": {
      "text/plain": [
       "['Sensor-158', 'Sensor-159', 'Sensor-293', 'Sensor-294']"
      ]
     },
     "execution_count": 58,
     "metadata": {},
     "output_type": "execute_result"
    }
   ],
   "source": [
    "# ratio=df.isna().sum().div(df.shape[0])\n",
    "# l1=list(ratio[ratio>0.9].index)\n",
    "# l1\n",
    "df[df.isna().sum().div(df.shape[0]) > 0.9]"
   ]
  },
  {
   "cell_type": "code",
   "execution_count": 61,
   "id": "c5b8ce1ce3ae7e80",
   "metadata": {
    "ExecuteTime": {
     "end_time": "2023-10-27T05:26:22.667588700Z",
     "start_time": "2023-10-27T05:26:22.649528100Z"
    },
    "collapsed": false
   },
   "outputs": [],
   "source": [
    "def get_redundant_cols(df1: pd.DataFrame, missing_tresh=0.7):\n",
    "    ratio = df1.isna().sum() / df1.shape[0]\n",
    "    l1 = list(ratio[ratio > missing_tresh].index)\n",
    "    return l1"
   ]
  },
  {
   "cell_type": "code",
   "execution_count": 62,
   "id": "3660354453f255b9",
   "metadata": {
    "ExecuteTime": {
     "end_time": "2023-10-27T05:27:32.689966700Z",
     "start_time": "2023-10-27T05:27:32.624971500Z"
    },
    "collapsed": false
   },
   "outputs": [
    {
     "name": "stdout",
     "output_type": "stream",
     "text": [
      "['Sensor-158', 'Sensor-159', 'Sensor-293', 'Sensor-294']\n"
     ]
    }
   ],
   "source": [
    "l = get_redundant_cols(df)\n",
    "print(l)"
   ]
  },
  {
   "cell_type": "code",
   "execution_count": 71,
   "id": "710ac6c636ece888",
   "metadata": {
    "ExecuteTime": {
     "end_time": "2023-10-27T07:40:33.858725900Z",
     "start_time": "2023-10-27T07:40:33.803501900Z"
    },
    "collapsed": false
   },
   "outputs": [
    {
     "data": {
      "text/plain": [
       "Index(['Sensor-6', 'Sensor-14', 'Sensor-43', 'Sensor-50', 'Sensor-53',\n",
       "       'Sensor-70', 'Sensor-75', 'Sensor-98', 'Sensor-142', 'Sensor-150',\n",
       "       ...\n",
       "       'Sensor-530', 'Sensor-531', 'Sensor-532', 'Sensor-533', 'Sensor-534',\n",
       "       'Sensor-535', 'Sensor-536', 'Sensor-537', 'Sensor-538', 'Sensor-539'],\n",
       "      dtype='object', length=122)"
      ]
     },
     "execution_count": 71,
     "metadata": {},
     "output_type": "execute_result"
    }
   ],
   "source": [
    "df.drop(['Unnamed: 0'], axis=1).std()[df.drop(['Unnamed: 0'], axis=1).std() == 0].index"
   ]
  },
  {
   "cell_type": "code",
   "execution_count": 73,
   "id": "f99f2cde0127f67f",
   "metadata": {
    "ExecuteTime": {
     "end_time": "2023-10-27T07:40:52.976401100Z",
     "start_time": "2023-10-27T07:40:52.949810700Z"
    },
    "collapsed": false
   },
   "outputs": [],
   "source": [
    "def col_0_std(df2: pd.DataFrame):\n",
    "    standard_deviation = list(df.drop(['Unnamed: 0'], axis=1).std()[df.drop(['Unnamed: 0'], axis=1).std() == 0].index)\n",
    "    return standard_deviation"
   ]
  },
  {
   "cell_type": "code",
   "execution_count": 75,
   "id": "b826c5be91ee0d12",
   "metadata": {
    "ExecuteTime": {
     "end_time": "2023-10-27T07:41:03.976611300Z",
     "start_time": "2023-10-27T07:41:03.938868200Z"
    },
    "collapsed": false
   },
   "outputs": [
    {
     "name": "stdout",
     "output_type": "stream",
     "text": [
      "122\n"
     ]
    }
   ],
   "source": [
    "l2 = col_0_std(df)\n",
    "print(len(l2))"
   ]
  },
  {
   "cell_type": "code",
   "execution_count": 81,
   "id": "11ec5b9b8d27c6c3",
   "metadata": {
    "ExecuteTime": {
     "end_time": "2023-10-27T07:46:14.647518200Z",
     "start_time": "2023-10-27T07:46:14.582254200Z"
    },
    "collapsed": false
   },
   "outputs": [],
   "source": [
    "all_col_to_delete = l + l2\n",
    "all_col_to_delete.append('Unnamed: 0')"
   ]
  },
  {
   "cell_type": "code",
   "execution_count": 82,
   "id": "7b06350543a70779",
   "metadata": {
    "ExecuteTime": {
     "end_time": "2023-10-27T07:46:14.984071600Z",
     "start_time": "2023-10-27T07:46:14.958509400Z"
    },
    "collapsed": false
   },
   "outputs": [
    {
     "data": {
      "text/plain": [
       "['Sensor-158',\n",
       " 'Sensor-159',\n",
       " 'Sensor-293',\n",
       " 'Sensor-294',\n",
       " 'Sensor-6',\n",
       " 'Sensor-14',\n",
       " 'Sensor-43',\n",
       " 'Sensor-50',\n",
       " 'Sensor-53',\n",
       " 'Sensor-70',\n",
       " 'Sensor-75',\n",
       " 'Sensor-98',\n",
       " 'Sensor-142',\n",
       " 'Sensor-150',\n",
       " 'Sensor-179',\n",
       " 'Sensor-180',\n",
       " 'Sensor-187',\n",
       " 'Sensor-190',\n",
       " 'Sensor-191',\n",
       " 'Sensor-192',\n",
       " 'Sensor-193',\n",
       " 'Sensor-194',\n",
       " 'Sensor-195',\n",
       " 'Sensor-207',\n",
       " 'Sensor-210',\n",
       " 'Sensor-227',\n",
       " 'Sensor-230',\n",
       " 'Sensor-231',\n",
       " 'Sensor-232',\n",
       " 'Sensor-233',\n",
       " 'Sensor-234',\n",
       " 'Sensor-235',\n",
       " 'Sensor-236',\n",
       " 'Sensor-237',\n",
       " 'Sensor-238',\n",
       " 'Sensor-241',\n",
       " 'Sensor-242',\n",
       " 'Sensor-243',\n",
       " 'Sensor-244',\n",
       " 'Sensor-257',\n",
       " 'Sensor-258',\n",
       " 'Sensor-259',\n",
       " 'Sensor-260',\n",
       " 'Sensor-261',\n",
       " 'Sensor-262',\n",
       " 'Sensor-263',\n",
       " 'Sensor-264',\n",
       " 'Sensor-265',\n",
       " 'Sensor-266',\n",
       " 'Sensor-267',\n",
       " 'Sensor-277',\n",
       " 'Sensor-285',\n",
       " 'Sensor-314',\n",
       " 'Sensor-315',\n",
       " 'Sensor-316',\n",
       " 'Sensor-323',\n",
       " 'Sensor-326',\n",
       " 'Sensor-327',\n",
       " 'Sensor-328',\n",
       " 'Sensor-329',\n",
       " 'Sensor-330',\n",
       " 'Sensor-331',\n",
       " 'Sensor-343',\n",
       " 'Sensor-348',\n",
       " 'Sensor-365',\n",
       " 'Sensor-370',\n",
       " 'Sensor-371',\n",
       " 'Sensor-372',\n",
       " 'Sensor-373',\n",
       " 'Sensor-374',\n",
       " 'Sensor-375',\n",
       " 'Sensor-376',\n",
       " 'Sensor-379',\n",
       " 'Sensor-380',\n",
       " 'Sensor-381',\n",
       " 'Sensor-382',\n",
       " 'Sensor-395',\n",
       " 'Sensor-396',\n",
       " 'Sensor-397',\n",
       " 'Sensor-398',\n",
       " 'Sensor-399',\n",
       " 'Sensor-400',\n",
       " 'Sensor-401',\n",
       " 'Sensor-402',\n",
       " 'Sensor-403',\n",
       " 'Sensor-404',\n",
       " 'Sensor-405',\n",
       " 'Sensor-415',\n",
       " 'Sensor-423',\n",
       " 'Sensor-450',\n",
       " 'Sensor-451',\n",
       " 'Sensor-452',\n",
       " 'Sensor-459',\n",
       " 'Sensor-462',\n",
       " 'Sensor-463',\n",
       " 'Sensor-464',\n",
       " 'Sensor-465',\n",
       " 'Sensor-466',\n",
       " 'Sensor-467',\n",
       " 'Sensor-479',\n",
       " 'Sensor-482',\n",
       " 'Sensor-499',\n",
       " 'Sensor-502',\n",
       " 'Sensor-503',\n",
       " 'Sensor-504',\n",
       " 'Sensor-505',\n",
       " 'Sensor-506',\n",
       " 'Sensor-507',\n",
       " 'Sensor-508',\n",
       " 'Sensor-509',\n",
       " 'Sensor-510',\n",
       " 'Sensor-513',\n",
       " 'Sensor-514',\n",
       " 'Sensor-515',\n",
       " 'Sensor-516',\n",
       " 'Sensor-529',\n",
       " 'Sensor-530',\n",
       " 'Sensor-531',\n",
       " 'Sensor-532',\n",
       " 'Sensor-533',\n",
       " 'Sensor-534',\n",
       " 'Sensor-535',\n",
       " 'Sensor-536',\n",
       " 'Sensor-537',\n",
       " 'Sensor-538',\n",
       " 'Sensor-539',\n",
       " 'Unnamed: 0']"
      ]
     },
     "execution_count": 82,
     "metadata": {},
     "output_type": "execute_result"
    }
   ],
   "source": [
    "all_col_to_delete"
   ]
  },
  {
   "cell_type": "code",
   "execution_count": 83,
   "id": "58e46efdf96e355f",
   "metadata": {
    "ExecuteTime": {
     "end_time": "2023-10-27T07:46:17.546419Z",
     "start_time": "2023-10-27T07:46:17.520269700Z"
    },
    "collapsed": false
   },
   "outputs": [
    {
     "data": {
      "text/plain": [
       "127"
      ]
     },
     "execution_count": 83,
     "metadata": {},
     "output_type": "execute_result"
    }
   ],
   "source": [
    "len(all_col_to_delete)"
   ]
  },
  {
   "cell_type": "code",
   "execution_count": 84,
   "id": "a0a33766d99e8b0e",
   "metadata": {
    "ExecuteTime": {
     "end_time": "2023-10-27T07:46:18.718414500Z",
     "start_time": "2023-10-27T07:46:18.686889100Z"
    },
    "collapsed": false
   },
   "outputs": [],
   "source": [
    "x, y = df.drop(all_col_to_delete, axis=1), df[['Good/Bad']]"
   ]
  },
  {
   "cell_type": "code",
   "execution_count": 85,
   "id": "faaeb1fd132ea263",
   "metadata": {
    "ExecuteTime": {
     "end_time": "2023-10-27T07:46:24.899272300Z",
     "start_time": "2023-10-27T07:46:24.798547500Z"
    },
    "collapsed": false
   },
   "outputs": [
    {
     "data": {
      "text/html": [
       "<div>\n",
       "<style scoped>\n",
       "    .dataframe tbody tr th:only-of-type {\n",
       "        vertical-align: middle;\n",
       "    }\n",
       "\n",
       "    .dataframe tbody tr th {\n",
       "        vertical-align: top;\n",
       "    }\n",
       "\n",
       "    .dataframe thead th {\n",
       "        text-align: right;\n",
       "    }\n",
       "</style>\n",
       "<table border=\"1\" class=\"dataframe\">\n",
       "  <thead>\n",
       "    <tr style=\"text-align: right;\">\n",
       "      <th></th>\n",
       "      <th>Sensor-1</th>\n",
       "      <th>Sensor-2</th>\n",
       "      <th>Sensor-3</th>\n",
       "      <th>Sensor-4</th>\n",
       "      <th>Sensor-5</th>\n",
       "      <th>Sensor-7</th>\n",
       "      <th>Sensor-8</th>\n",
       "      <th>Sensor-9</th>\n",
       "      <th>Sensor-10</th>\n",
       "      <th>Sensor-11</th>\n",
       "      <th>...</th>\n",
       "      <th>Sensor-582</th>\n",
       "      <th>Sensor-583</th>\n",
       "      <th>Sensor-584</th>\n",
       "      <th>Sensor-585</th>\n",
       "      <th>Sensor-586</th>\n",
       "      <th>Sensor-587</th>\n",
       "      <th>Sensor-588</th>\n",
       "      <th>Sensor-589</th>\n",
       "      <th>Sensor-590</th>\n",
       "      <th>Good/Bad</th>\n",
       "    </tr>\n",
       "  </thead>\n",
       "  <tbody>\n",
       "    <tr>\n",
       "      <th>0</th>\n",
       "      <td>2968.33</td>\n",
       "      <td>2476.58</td>\n",
       "      <td>2216.7333</td>\n",
       "      <td>1748.0885</td>\n",
       "      <td>1.1127</td>\n",
       "      <td>97.5822</td>\n",
       "      <td>0.1242</td>\n",
       "      <td>1.5300</td>\n",
       "      <td>-0.0279</td>\n",
       "      <td>-0.0040</td>\n",
       "      <td>...</td>\n",
       "      <td>NaN</td>\n",
       "      <td>0.5004</td>\n",
       "      <td>0.0120</td>\n",
       "      <td>0.0033</td>\n",
       "      <td>2.4069</td>\n",
       "      <td>0.0545</td>\n",
       "      <td>0.0184</td>\n",
       "      <td>0.0055</td>\n",
       "      <td>33.7876</td>\n",
       "      <td>-1</td>\n",
       "    </tr>\n",
       "    <tr>\n",
       "      <th>1</th>\n",
       "      <td>2961.04</td>\n",
       "      <td>2506.43</td>\n",
       "      <td>2170.0666</td>\n",
       "      <td>1364.5157</td>\n",
       "      <td>1.5447</td>\n",
       "      <td>96.7700</td>\n",
       "      <td>0.1230</td>\n",
       "      <td>1.3953</td>\n",
       "      <td>0.0084</td>\n",
       "      <td>0.0062</td>\n",
       "      <td>...</td>\n",
       "      <td>NaN</td>\n",
       "      <td>0.4994</td>\n",
       "      <td>0.0115</td>\n",
       "      <td>0.0031</td>\n",
       "      <td>2.3020</td>\n",
       "      <td>0.0545</td>\n",
       "      <td>0.0184</td>\n",
       "      <td>0.0055</td>\n",
       "      <td>33.7876</td>\n",
       "      <td>1</td>\n",
       "    </tr>\n",
       "    <tr>\n",
       "      <th>2</th>\n",
       "      <td>3072.03</td>\n",
       "      <td>2500.68</td>\n",
       "      <td>2205.7445</td>\n",
       "      <td>1363.1048</td>\n",
       "      <td>1.0518</td>\n",
       "      <td>101.8644</td>\n",
       "      <td>0.1220</td>\n",
       "      <td>1.3896</td>\n",
       "      <td>0.0138</td>\n",
       "      <td>0.0000</td>\n",
       "      <td>...</td>\n",
       "      <td>NaN</td>\n",
       "      <td>0.4987</td>\n",
       "      <td>0.0118</td>\n",
       "      <td>0.0036</td>\n",
       "      <td>2.3719</td>\n",
       "      <td>0.0545</td>\n",
       "      <td>0.0184</td>\n",
       "      <td>0.0055</td>\n",
       "      <td>33.7876</td>\n",
       "      <td>-1</td>\n",
       "    </tr>\n",
       "    <tr>\n",
       "      <th>3</th>\n",
       "      <td>3021.83</td>\n",
       "      <td>2419.83</td>\n",
       "      <td>2205.7445</td>\n",
       "      <td>1363.1048</td>\n",
       "      <td>1.0518</td>\n",
       "      <td>101.8644</td>\n",
       "      <td>0.1220</td>\n",
       "      <td>1.4108</td>\n",
       "      <td>-0.0046</td>\n",
       "      <td>-0.0024</td>\n",
       "      <td>...</td>\n",
       "      <td>NaN</td>\n",
       "      <td>0.4934</td>\n",
       "      <td>0.0123</td>\n",
       "      <td>0.0040</td>\n",
       "      <td>2.4923</td>\n",
       "      <td>0.0545</td>\n",
       "      <td>0.0184</td>\n",
       "      <td>0.0055</td>\n",
       "      <td>33.7876</td>\n",
       "      <td>-1</td>\n",
       "    </tr>\n",
       "    <tr>\n",
       "      <th>4</th>\n",
       "      <td>3006.95</td>\n",
       "      <td>2435.34</td>\n",
       "      <td>2189.8111</td>\n",
       "      <td>1084.6502</td>\n",
       "      <td>1.1993</td>\n",
       "      <td>104.8856</td>\n",
       "      <td>0.1234</td>\n",
       "      <td>1.5094</td>\n",
       "      <td>-0.0046</td>\n",
       "      <td>0.0121</td>\n",
       "      <td>...</td>\n",
       "      <td>NaN</td>\n",
       "      <td>0.4987</td>\n",
       "      <td>0.0145</td>\n",
       "      <td>0.0041</td>\n",
       "      <td>2.8991</td>\n",
       "      <td>0.0545</td>\n",
       "      <td>0.0184</td>\n",
       "      <td>0.0055</td>\n",
       "      <td>33.7876</td>\n",
       "      <td>-1</td>\n",
       "    </tr>\n",
       "  </tbody>\n",
       "</table>\n",
       "<p>5 rows × 465 columns</p>\n",
       "</div>"
      ],
      "text/plain": [
       "   Sensor-1  Sensor-2   Sensor-3   Sensor-4  Sensor-5  Sensor-7  Sensor-8  \\\n",
       "0   2968.33   2476.58  2216.7333  1748.0885    1.1127   97.5822    0.1242   \n",
       "1   2961.04   2506.43  2170.0666  1364.5157    1.5447   96.7700    0.1230   \n",
       "2   3072.03   2500.68  2205.7445  1363.1048    1.0518  101.8644    0.1220   \n",
       "3   3021.83   2419.83  2205.7445  1363.1048    1.0518  101.8644    0.1220   \n",
       "4   3006.95   2435.34  2189.8111  1084.6502    1.1993  104.8856    0.1234   \n",
       "\n",
       "   Sensor-9  Sensor-10  Sensor-11  ...  Sensor-582  Sensor-583  Sensor-584  \\\n",
       "0    1.5300    -0.0279    -0.0040  ...         NaN      0.5004      0.0120   \n",
       "1    1.3953     0.0084     0.0062  ...         NaN      0.4994      0.0115   \n",
       "2    1.3896     0.0138     0.0000  ...         NaN      0.4987      0.0118   \n",
       "3    1.4108    -0.0046    -0.0024  ...         NaN      0.4934      0.0123   \n",
       "4    1.5094    -0.0046     0.0121  ...         NaN      0.4987      0.0145   \n",
       "\n",
       "   Sensor-585  Sensor-586  Sensor-587  Sensor-588  Sensor-589  Sensor-590  \\\n",
       "0      0.0033      2.4069      0.0545      0.0184      0.0055     33.7876   \n",
       "1      0.0031      2.3020      0.0545      0.0184      0.0055     33.7876   \n",
       "2      0.0036      2.3719      0.0545      0.0184      0.0055     33.7876   \n",
       "3      0.0040      2.4923      0.0545      0.0184      0.0055     33.7876   \n",
       "4      0.0041      2.8991      0.0545      0.0184      0.0055     33.7876   \n",
       "\n",
       "   Good/Bad  \n",
       "0        -1  \n",
       "1         1  \n",
       "2        -1  \n",
       "3        -1  \n",
       "4        -1  \n",
       "\n",
       "[5 rows x 465 columns]"
      ]
     },
     "execution_count": 85,
     "metadata": {},
     "output_type": "execute_result"
    }
   ],
   "source": [
    "x.head()"
   ]
  },
  {
   "cell_type": "code",
   "execution_count": 86,
   "id": "46dac8351d58e344",
   "metadata": {
    "ExecuteTime": {
     "end_time": "2023-10-27T07:46:28.295960Z",
     "start_time": "2023-10-27T07:46:28.185616600Z"
    },
    "collapsed": false
   },
   "outputs": [
    {
     "data": {
      "text/html": [
       "<div>\n",
       "<style scoped>\n",
       "    .dataframe tbody tr th:only-of-type {\n",
       "        vertical-align: middle;\n",
       "    }\n",
       "\n",
       "    .dataframe tbody tr th {\n",
       "        vertical-align: top;\n",
       "    }\n",
       "\n",
       "    .dataframe thead th {\n",
       "        text-align: right;\n",
       "    }\n",
       "</style>\n",
       "<table border=\"1\" class=\"dataframe\">\n",
       "  <thead>\n",
       "    <tr style=\"text-align: right;\">\n",
       "      <th></th>\n",
       "      <th>Good/Bad</th>\n",
       "    </tr>\n",
       "  </thead>\n",
       "  <tbody>\n",
       "    <tr>\n",
       "      <th>0</th>\n",
       "      <td>-1</td>\n",
       "    </tr>\n",
       "    <tr>\n",
       "      <th>1</th>\n",
       "      <td>1</td>\n",
       "    </tr>\n",
       "    <tr>\n",
       "      <th>2</th>\n",
       "      <td>-1</td>\n",
       "    </tr>\n",
       "    <tr>\n",
       "      <th>3</th>\n",
       "      <td>-1</td>\n",
       "    </tr>\n",
       "    <tr>\n",
       "      <th>4</th>\n",
       "      <td>-1</td>\n",
       "    </tr>\n",
       "    <tr>\n",
       "      <th>...</th>\n",
       "      <td>...</td>\n",
       "    </tr>\n",
       "    <tr>\n",
       "      <th>95</th>\n",
       "      <td>-1</td>\n",
       "    </tr>\n",
       "    <tr>\n",
       "      <th>96</th>\n",
       "      <td>1</td>\n",
       "    </tr>\n",
       "    <tr>\n",
       "      <th>97</th>\n",
       "      <td>-1</td>\n",
       "    </tr>\n",
       "    <tr>\n",
       "      <th>98</th>\n",
       "      <td>-1</td>\n",
       "    </tr>\n",
       "    <tr>\n",
       "      <th>99</th>\n",
       "      <td>1</td>\n",
       "    </tr>\n",
       "  </tbody>\n",
       "</table>\n",
       "<p>100 rows × 1 columns</p>\n",
       "</div>"
      ],
      "text/plain": [
       "    Good/Bad\n",
       "0         -1\n",
       "1          1\n",
       "2         -1\n",
       "3         -1\n",
       "4         -1\n",
       "..       ...\n",
       "95        -1\n",
       "96         1\n",
       "97        -1\n",
       "98        -1\n",
       "99         1\n",
       "\n",
       "[100 rows x 1 columns]"
      ]
     },
     "execution_count": 86,
     "metadata": {},
     "output_type": "execute_result"
    }
   ],
   "source": [
    "y"
   ]
  },
  {
   "cell_type": "code",
   "execution_count": 87,
   "id": "dcacc28effa1ee6f",
   "metadata": {
    "ExecuteTime": {
     "end_time": "2023-10-27T07:46:38.377776700Z",
     "start_time": "2023-10-27T07:46:38.304248900Z"
    },
    "collapsed": false
   },
   "outputs": [
    {
     "data": {
      "text/plain": [
       "((100, 465), (100, 1))"
      ]
     },
     "execution_count": 87,
     "metadata": {},
     "output_type": "execute_result"
    }
   ],
   "source": [
    "x.shape, y.shape"
   ]
  },
  {
   "cell_type": "code",
   "execution_count": 88,
   "id": "7a5ac5fcab445ab1",
   "metadata": {
    "ExecuteTime": {
     "end_time": "2023-10-27T07:48:23.931749100Z",
     "start_time": "2023-10-27T07:48:23.093154400Z"
    },
    "collapsed": false
   },
   "outputs": [],
   "source": [
    "from sklearn.preprocessing import RobustScaler\n",
    "from sklearn.impute import KNNImputer\n",
    "from sklearn.pipeline import Pipeline"
   ]
  },
  {
   "cell_type": "code",
   "execution_count": 89,
   "id": "5d005c5b0f6c7712",
   "metadata": {
    "ExecuteTime": {
     "end_time": "2023-10-27T07:52:44.389430100Z",
     "start_time": "2023-10-27T07:52:44.373142400Z"
    },
    "collapsed": false
   },
   "outputs": [],
   "source": [
    "imputer = KNNImputer(n_neighbors=5)\n",
    "pipeline = Pipeline(\n",
    "    steps=[('imputer', imputer),\n",
    "           ('scaler', RobustScaler())]\n",
    ")"
   ]
  },
  {
   "cell_type": "markdown",
   "id": "dbd7493aac0e4210",
   "metadata": {
    "collapsed": false
   },
   "source": [
    "# Transforming"
   ]
  },
  {
   "cell_type": "code",
   "execution_count": 90,
   "id": "bd91b6c98011154b",
   "metadata": {
    "ExecuteTime": {
     "end_time": "2023-10-27T07:53:27.086372300Z",
     "start_time": "2023-10-27T07:53:26.805491700Z"
    },
    "collapsed": false
   },
   "outputs": [],
   "source": [
    "x_trans = pipeline.fit_transform(x)"
   ]
  },
  {
   "cell_type": "code",
   "execution_count": 91,
   "id": "bad2da0a48c690",
   "metadata": {
    "ExecuteTime": {
     "end_time": "2023-10-27T07:53:36.167581Z",
     "start_time": "2023-10-27T07:53:36.102816100Z"
    },
    "collapsed": false
   },
   "outputs": [
    {
     "data": {
      "text/plain": [
       "(100, 465)"
      ]
     },
     "execution_count": 91,
     "metadata": {},
     "output_type": "execute_result"
    }
   ],
   "source": [
    "x_trans.shape"
   ]
  },
  {
   "cell_type": "code",
   "execution_count": 92,
   "id": "7615d1888716f0d",
   "metadata": {
    "ExecuteTime": {
     "end_time": "2023-10-27T07:56:26.653375800Z",
     "start_time": "2023-10-27T07:56:25.658634200Z"
    },
    "collapsed": false
   },
   "outputs": [],
   "source": [
    "from imblearn.combine import SMOTETomek\n",
    "\n",
    "X, y = x_trans[:, :-1], y\n",
    "resampler = SMOTETomek(sampling_strategy=\"auto\")\n",
    "X_res, y_res = resampler.fit_resample(X, y)"
   ]
  },
  {
   "cell_type": "code",
   "execution_count": 93,
   "id": "9db90d131fd234a8",
   "metadata": {
    "ExecuteTime": {
     "end_time": "2023-10-27T07:56:36.014676400Z",
     "start_time": "2023-10-27T07:56:35.967766600Z"
    },
    "collapsed": false
   },
   "outputs": [
    {
     "name": "stdout",
     "output_type": "stream",
     "text": [
      "Before resampling, Shape of training instances:  (100, 465)\n",
      "After resampling, Shape of training instances:  (188, 465)\n"
     ]
    }
   ],
   "source": [
    "print(\"Before resampling, Shape of training instances: \", np.c_[X, y].shape)\n",
    "print(\"After resampling, Shape of training instances: \", np.c_[X_res, y_res].shape)"
   ]
  },
  {
   "cell_type": "code",
   "execution_count": 94,
   "id": "c72d2481e0017c77",
   "metadata": {
    "ExecuteTime": {
     "end_time": "2023-10-27T07:57:49.095832100Z",
     "start_time": "2023-10-27T07:57:49.036291900Z"
    },
    "collapsed": false
   },
   "outputs": [
    {
     "name": "stdout",
     "output_type": "stream",
     "text": [
      "[-1  1]\n",
      "Value Counts: \n",
      "-1: 188, 1: 188\n"
     ]
    }
   ],
   "source": [
    "print(np.unique(y_res))\n",
    "print(f\"Value Counts: \\n-1: {len(y_res[y_res == -1])}, 1: {len(y_res[y_res == 1])}\")"
   ]
  },
  {
   "cell_type": "code",
   "execution_count": 95,
   "id": "1033fe7be250c782",
   "metadata": {
    "ExecuteTime": {
     "end_time": "2023-10-27T07:58:00.503997800Z",
     "start_time": "2023-10-27T07:58:00.433078Z"
    },
    "collapsed": false
   },
   "outputs": [
    {
     "name": "stdout",
     "output_type": "stream",
     "text": [
      "train set: ((125, 464), (125, 1))\n",
      "test set: ((63, 464), (63, 1))\n"
     ]
    }
   ],
   "source": [
    "from sklearn.model_selection import train_test_split\n",
    "\n",
    "X_train, X_test, y_train, y_test = train_test_split(X_res, y_res, test_size=1 / 3, random_state=42)\n",
    "\n",
    "print(f\"train set: {X_train.shape, y_train.shape}\")\n",
    "print(f\"test set: {X_test.shape, y_test.shape}\")"
   ]
  },
  {
   "cell_type": "code",
   "execution_count": 96,
   "id": "6476a1ac4925e04f",
   "metadata": {
    "ExecuteTime": {
     "end_time": "2023-10-27T07:58:09.294641300Z",
     "start_time": "2023-10-27T07:58:09.168526Z"
    },
    "collapsed": false
   },
   "outputs": [
    {
     "name": "stdout",
     "output_type": "stream",
     "text": [
      "(125, 464) (125, 1)\n",
      "(63, 464) (63, 1)\n"
     ]
    }
   ],
   "source": [
    "# Prepared training and test sets\n",
    "\n",
    "X_prep = X_train\n",
    "y_prep = y_train\n",
    "X_test_prep = X_test\n",
    "y_test_prep = y_test\n",
    "\n",
    "print(X_prep.shape, y_prep.shape)\n",
    "print(X_test_prep.shape, y_test_prep.shape)"
   ]
  },
  {
   "cell_type": "code",
   "execution_count": 113,
   "id": "68a09bf9602bb60f",
   "metadata": {
    "ExecuteTime": {
     "end_time": "2023-10-27T08:10:26.240735500Z",
     "start_time": "2023-10-27T08:10:26.143680200Z"
    },
    "collapsed": false
   },
   "outputs": [],
   "source": [
    "from sklearn.svm import SVC\n",
    "from sklearn.ensemble import RandomForestClassifier\n",
    "from xgboost import XGBClassifier\n",
    "from sklearn.model_selection import cross_val_score\n",
    "from sklearn.model_selection import cross_val_predict\n",
    "from sklearn.metrics import roc_auc_score\n",
    "\n",
    "# Shortlisted base Models\n",
    "svc_clf = SVC(kernel='linear')\n",
    "svc_rbf_clf = SVC(kernel='rbf')\n",
    "random_clf = RandomForestClassifier(random_state=42)\n",
    "xgb_clf = XGBClassifier()"
   ]
  },
  {
   "cell_type": "code",
   "execution_count": 100,
   "id": "a1d4cde009012a84",
   "metadata": {
    "ExecuteTime": {
     "end_time": "2023-10-27T07:59:52.040620200Z",
     "start_time": "2023-10-27T07:59:51.961130900Z"
    },
    "collapsed": false
   },
   "outputs": [],
   "source": [
    "## A function to display Scores\n",
    "\n",
    "def display_scores(scores):\n",
    "    print(\"Scores: \", scores)\n",
    "    print(\"Mean: \", scores.mean())\n",
    "    print(\"Standard Deviation: \", scores.std())"
   ]
  },
  {
   "cell_type": "code",
   "execution_count": 103,
   "id": "d2da7a66850cdb85",
   "metadata": {
    "ExecuteTime": {
     "end_time": "2023-10-27T08:00:31.845250100Z",
     "start_time": "2023-10-27T08:00:31.668800Z"
    },
    "collapsed": false
   },
   "outputs": [
    {
     "name": "stdout",
     "output_type": "stream",
     "text": [
      "[CV] END .................................................... total time=   0.0s\n",
      "[CV] END .................................................... total time=   0.0s\n",
      "[CV] END .................................................... total time=   0.0s\n",
      "[CV] END .................................................... total time=   0.0s\n",
      "[CV] END .................................................... total time=   0.0s\n",
      "[CV] END .................................................... total time=   0.0s\n",
      "[CV] END .................................................... total time=   0.0s\n",
      "[CV] END .................................................... total time=   0.0s\n",
      "[CV] END .................................................... total time=   0.0s\n",
      "[CV] END .................................................... total time=   0.0s\n"
     ]
    }
   ],
   "source": [
    "## SVC Scores\n",
    "\n",
    "svc_scores = cross_val_score(svc_clf, X_prep, y_prep, scoring='roc_auc', cv=10, verbose=2)"
   ]
  },
  {
   "cell_type": "code",
   "execution_count": 104,
   "id": "baed28744b0ea1cd",
   "metadata": {
    "ExecuteTime": {
     "end_time": "2023-10-27T08:00:41.995917300Z",
     "start_time": "2023-10-27T08:00:41.923202Z"
    },
    "collapsed": false
   },
   "outputs": [
    {
     "name": "stdout",
     "output_type": "stream",
     "text": [
      "Scores:  [1. 1. 1. 1. 1. 1. 1. 1. 1. 1.]\n",
      "Mean:  1.0\n",
      "Standard Deviation:  0.0\n"
     ]
    }
   ],
   "source": [
    "display_scores(svc_scores)"
   ]
  },
  {
   "cell_type": "code",
   "execution_count": 105,
   "id": "adcb16e449035b1b",
   "metadata": {
    "ExecuteTime": {
     "end_time": "2023-10-27T08:00:48.214427200Z",
     "start_time": "2023-10-27T08:00:48.093690300Z"
    },
    "collapsed": false
   },
   "outputs": [
    {
     "data": {
      "text/plain": [
       "0.9558823529411764"
      ]
     },
     "execution_count": 105,
     "metadata": {},
     "output_type": "execute_result"
    }
   ],
   "source": [
    "## Performance on test set using cross-validation\n",
    "\n",
    "# Predictions using cross-validation\n",
    "svc_preds = cross_val_predict(svc_clf, X_test_prep, y_test_prep, cv=5)\n",
    "\n",
    "# AUC score\n",
    "svc_auc = roc_auc_score(y_test_prep, svc_preds)\n",
    "svc_auc"
   ]
  },
  {
   "cell_type": "code",
   "execution_count": 106,
   "id": "c5feb61292e304b4",
   "metadata": {
    "ExecuteTime": {
     "end_time": "2023-10-27T08:01:00.641288400Z",
     "start_time": "2023-10-27T08:01:00.468124100Z"
    },
    "collapsed": false
   },
   "outputs": [
    {
     "name": "stdout",
     "output_type": "stream",
     "text": [
      "[CV] END .................................................... total time=   0.0s\n",
      "[CV] END .................................................... total time=   0.0s\n",
      "[CV] END .................................................... total time=   0.0s\n",
      "[CV] END .................................................... total time=   0.0s\n",
      "[CV] END .................................................... total time=   0.0s\n",
      "[CV] END .................................................... total time=   0.0s\n",
      "[CV] END .................................................... total time=   0.0s\n",
      "[CV] END .................................................... total time=   0.0s\n",
      "[CV] END .................................................... total time=   0.0s\n",
      "[CV] END .................................................... total time=   0.0s\n"
     ]
    }
   ],
   "source": [
    "## SVC rbf Scores\n",
    "\n",
    "svc_rbf_scores = cross_val_score(svc_rbf_clf, X_prep, y_prep, scoring='roc_auc', cv=10, verbose=2)"
   ]
  },
  {
   "cell_type": "code",
   "execution_count": 107,
   "id": "65f5a39ab227fce0",
   "metadata": {
    "ExecuteTime": {
     "end_time": "2023-10-27T08:01:07.733909200Z",
     "start_time": "2023-10-27T08:01:07.657962900Z"
    },
    "collapsed": false
   },
   "outputs": [
    {
     "name": "stdout",
     "output_type": "stream",
     "text": [
      "Scores:  [1.         1.         1.         1.         0.9047619  1.\n",
      " 0.94444444 0.97222222 0.97222222 1.        ]\n",
      "Mean:  0.9793650793650794\n",
      "Standard Deviation:  0.030727715369215768\n"
     ]
    }
   ],
   "source": [
    "display_scores(svc_rbf_scores)"
   ]
  },
  {
   "cell_type": "code",
   "execution_count": 108,
   "id": "a7b85c8538d63bf",
   "metadata": {
    "ExecuteTime": {
     "end_time": "2023-10-27T08:01:21.884464700Z",
     "start_time": "2023-10-27T08:01:21.745159500Z"
    },
    "collapsed": false
   },
   "outputs": [
    {
     "data": {
      "text/plain": [
       "0.9508113590263692"
      ]
     },
     "execution_count": 108,
     "metadata": {},
     "output_type": "execute_result"
    }
   ],
   "source": [
    "## Performance on test set using cross-validation\n",
    "\n",
    "# Predictions using cross-validation\n",
    "svc_rbf_preds = cross_val_predict(svc_rbf_clf, X_test_prep, y_test_prep, cv=5)\n",
    "\n",
    "# AUC score\n",
    "svc_rbf_auc = roc_auc_score(y_test_prep, svc_rbf_preds)\n",
    "svc_rbf_auc"
   ]
  },
  {
   "cell_type": "code",
   "execution_count": 109,
   "id": "219fb1cb6dad645a",
   "metadata": {
    "ExecuteTime": {
     "end_time": "2023-10-27T08:01:34.297306700Z",
     "start_time": "2023-10-27T08:01:29.595589300Z"
    },
    "collapsed": false
   },
   "outputs": [
    {
     "name": "stdout",
     "output_type": "stream",
     "text": [
      "[CV] END .................................................... total time=   0.3s\n",
      "[CV] END .................................................... total time=   0.4s\n",
      "[CV] END .................................................... total time=   0.5s\n",
      "[CV] END .................................................... total time=   0.4s\n",
      "[CV] END .................................................... total time=   0.3s\n",
      "[CV] END .................................................... total time=   0.3s\n",
      "[CV] END .................................................... total time=   0.3s\n",
      "[CV] END .................................................... total time=   0.5s\n",
      "[CV] END .................................................... total time=   0.4s\n",
      "[CV] END .................................................... total time=   0.3s\n"
     ]
    }
   ],
   "source": [
    "## Random Forest Scores\n",
    "\n",
    "random_clf_scores = cross_val_score(random_clf, X_prep, y_prep, scoring='roc_auc', cv=10, verbose=2)"
   ]
  },
  {
   "cell_type": "code",
   "execution_count": 110,
   "id": "79a79493897e25f",
   "metadata": {
    "ExecuteTime": {
     "end_time": "2023-10-27T08:01:38.712779700Z",
     "start_time": "2023-10-27T08:01:38.618334700Z"
    },
    "collapsed": false
   },
   "outputs": [
    {
     "name": "stdout",
     "output_type": "stream",
     "text": [
      "Scores:  [1. 1. 1. 1. 1. 1. 1. 1. 1. 1.]\n",
      "Mean:  1.0\n",
      "Standard Deviation:  0.0\n"
     ]
    }
   ],
   "source": [
    "display_scores(random_clf_scores)"
   ]
  },
  {
   "cell_type": "code",
   "execution_count": 111,
   "id": "87e771a9b484018a",
   "metadata": {
    "ExecuteTime": {
     "end_time": "2023-10-27T08:01:46.185683500Z",
     "start_time": "2023-10-27T08:01:44.295459500Z"
    },
    "collapsed": false
   },
   "outputs": [
    {
     "data": {
      "text/plain": [
       "1.0"
      ]
     },
     "execution_count": 111,
     "metadata": {},
     "output_type": "execute_result"
    }
   ],
   "source": [
    "## Performance on test set using cross-validation\n",
    "\n",
    "# Predictions using cross-validation\n",
    "random_clf_preds = cross_val_predict(random_clf, X_test_prep, y_test_prep, cv=5)\n",
    "\n",
    "# AUC score\n",
    "random_clf_auc = roc_auc_score(y_test_prep, random_clf_preds)\n",
    "random_clf_auc"
   ]
  },
  {
   "cell_type": "code",
   "execution_count": 117,
   "id": "83a4ebd067a4a760",
   "metadata": {
    "ExecuteTime": {
     "end_time": "2023-10-27T08:13:55.292866Z",
     "start_time": "2023-10-27T08:13:55.263887400Z"
    },
    "collapsed": false
   },
   "outputs": [
    {
     "data": {
      "text/html": [
       "<div>\n",
       "<style scoped>\n",
       "    .dataframe tbody tr th:only-of-type {\n",
       "        vertical-align: middle;\n",
       "    }\n",
       "\n",
       "    .dataframe tbody tr th {\n",
       "        vertical-align: top;\n",
       "    }\n",
       "\n",
       "    .dataframe thead th {\n",
       "        text-align: right;\n",
       "    }\n",
       "</style>\n",
       "<table border=\"1\" class=\"dataframe\">\n",
       "  <thead>\n",
       "    <tr style=\"text-align: right;\">\n",
       "      <th></th>\n",
       "      <th>Good/Bad</th>\n",
       "    </tr>\n",
       "  </thead>\n",
       "  <tbody>\n",
       "    <tr>\n",
       "      <th>176</th>\n",
       "      <td>1</td>\n",
       "    </tr>\n",
       "    <tr>\n",
       "      <th>46</th>\n",
       "      <td>0</td>\n",
       "    </tr>\n",
       "    <tr>\n",
       "      <th>95</th>\n",
       "      <td>0</td>\n",
       "    </tr>\n",
       "    <tr>\n",
       "      <th>82</th>\n",
       "      <td>0</td>\n",
       "    </tr>\n",
       "    <tr>\n",
       "      <th>186</th>\n",
       "      <td>1</td>\n",
       "    </tr>\n",
       "    <tr>\n",
       "      <th>...</th>\n",
       "      <td>...</td>\n",
       "    </tr>\n",
       "    <tr>\n",
       "      <th>106</th>\n",
       "      <td>1</td>\n",
       "    </tr>\n",
       "    <tr>\n",
       "      <th>14</th>\n",
       "      <td>0</td>\n",
       "    </tr>\n",
       "    <tr>\n",
       "      <th>92</th>\n",
       "      <td>0</td>\n",
       "    </tr>\n",
       "    <tr>\n",
       "      <th>179</th>\n",
       "      <td>1</td>\n",
       "    </tr>\n",
       "    <tr>\n",
       "      <th>102</th>\n",
       "      <td>1</td>\n",
       "    </tr>\n",
       "  </tbody>\n",
       "</table>\n",
       "<p>125 rows × 1 columns</p>\n",
       "</div>"
      ],
      "text/plain": [
       "     Good/Bad\n",
       "176         1\n",
       "46          0\n",
       "95          0\n",
       "82          0\n",
       "186         1\n",
       "..        ...\n",
       "106         1\n",
       "14          0\n",
       "92          0\n",
       "179         1\n",
       "102         1\n",
       "\n",
       "[125 rows x 1 columns]"
      ]
     },
     "execution_count": 117,
     "metadata": {},
     "output_type": "execute_result"
    }
   ],
   "source": [
    "# y_prep\n",
    "Y_xgb_prep = y_prep\n",
    "Y_xgb_prep[Y_xgb_prep == -1] = 0\n",
    "Y_xgb_prep"
   ]
  },
  {
   "cell_type": "code",
   "execution_count": 118,
   "id": "fffaa071f7833cb3",
   "metadata": {
    "ExecuteTime": {
     "end_time": "2023-10-27T08:14:11.575143300Z",
     "start_time": "2023-10-27T08:14:09.988928800Z"
    },
    "collapsed": false
   },
   "outputs": [
    {
     "name": "stdout",
     "output_type": "stream",
     "text": [
      "[CV] END .................................................... total time=   0.1s\n",
      "[CV] END .................................................... total time=   0.0s\n",
      "[CV] END .................................................... total time=   0.0s\n",
      "[CV] END .................................................... total time=   0.1s\n",
      "[CV] END .................................................... total time=   0.0s\n",
      "[CV] END .................................................... total time=   0.0s\n",
      "[CV] END .................................................... total time=   0.1s\n",
      "[CV] END .................................................... total time=   0.0s\n",
      "[CV] END .................................................... total time=   0.0s\n",
      "[CV] END .................................................... total time=   0.1s\n"
     ]
    }
   ],
   "source": [
    "xgb = cross_val_score(xgb_clf, X_prep, Y_xgb_prep, scoring='roc_auc', cv=10, verbose=2)"
   ]
  },
  {
   "cell_type": "code",
   "execution_count": 121,
   "id": "5f6dcbe2893eddb5",
   "metadata": {
    "ExecuteTime": {
     "end_time": "2023-10-27T08:16:10.966854300Z",
     "start_time": "2023-10-27T08:16:10.879865400Z"
    },
    "collapsed": false
   },
   "outputs": [
    {
     "data": {
      "text/html": [
       "<div>\n",
       "<style scoped>\n",
       "    .dataframe tbody tr th:only-of-type {\n",
       "        vertical-align: middle;\n",
       "    }\n",
       "\n",
       "    .dataframe tbody tr th {\n",
       "        vertical-align: top;\n",
       "    }\n",
       "\n",
       "    .dataframe thead th {\n",
       "        text-align: right;\n",
       "    }\n",
       "</style>\n",
       "<table border=\"1\" class=\"dataframe\">\n",
       "  <thead>\n",
       "    <tr style=\"text-align: right;\">\n",
       "      <th></th>\n",
       "      <th>Good/Bad</th>\n",
       "    </tr>\n",
       "  </thead>\n",
       "  <tbody>\n",
       "    <tr>\n",
       "      <th>183</th>\n",
       "      <td>1</td>\n",
       "    </tr>\n",
       "    <tr>\n",
       "      <th>162</th>\n",
       "      <td>1</td>\n",
       "    </tr>\n",
       "    <tr>\n",
       "      <th>18</th>\n",
       "      <td>0</td>\n",
       "    </tr>\n",
       "    <tr>\n",
       "      <th>15</th>\n",
       "      <td>0</td>\n",
       "    </tr>\n",
       "    <tr>\n",
       "      <th>67</th>\n",
       "      <td>0</td>\n",
       "    </tr>\n",
       "    <tr>\n",
       "      <th>...</th>\n",
       "      <td>...</td>\n",
       "    </tr>\n",
       "    <tr>\n",
       "      <th>154</th>\n",
       "      <td>1</td>\n",
       "    </tr>\n",
       "    <tr>\n",
       "      <th>180</th>\n",
       "      <td>1</td>\n",
       "    </tr>\n",
       "    <tr>\n",
       "      <th>85</th>\n",
       "      <td>0</td>\n",
       "    </tr>\n",
       "    <tr>\n",
       "      <th>90</th>\n",
       "      <td>0</td>\n",
       "    </tr>\n",
       "    <tr>\n",
       "      <th>2</th>\n",
       "      <td>0</td>\n",
       "    </tr>\n",
       "  </tbody>\n",
       "</table>\n",
       "<p>63 rows × 1 columns</p>\n",
       "</div>"
      ],
      "text/plain": [
       "     Good/Bad\n",
       "183         1\n",
       "162         1\n",
       "18          0\n",
       "15          0\n",
       "67          0\n",
       "..        ...\n",
       "154         1\n",
       "180         1\n",
       "85          0\n",
       "90          0\n",
       "2           0\n",
       "\n",
       "[63 rows x 1 columns]"
      ]
     },
     "execution_count": 121,
     "metadata": {},
     "output_type": "execute_result"
    }
   ],
   "source": [
    "# display_scores(xgb_clf)\n",
    "Y_xgb_test = y_test_prep\n",
    "Y_xgb_test[Y_xgb_test == -1] = 0\n",
    "Y_xgb_test"
   ]
  },
  {
   "cell_type": "code",
   "execution_count": 122,
   "id": "47f0462ac5d8687",
   "metadata": {
    "ExecuteTime": {
     "end_time": "2023-10-27T08:16:14.655805700Z",
     "start_time": "2023-10-27T08:16:14.250082200Z"
    },
    "collapsed": false
   },
   "outputs": [
    {
     "data": {
      "text/plain": [
       "1.0"
      ]
     },
     "execution_count": 122,
     "metadata": {},
     "output_type": "execute_result"
    }
   ],
   "source": [
    "xgb_clf_preds = cross_val_predict(xgb_clf, X_test_prep, y_test_prep, cv=5)\n",
    "\n",
    "# AUC score\n",
    "xgb_clf_auc = roc_auc_score(y_test_prep, random_clf_preds)\n",
    "xgb_clf_auc"
   ]
  },
  {
   "cell_type": "code",
   "execution_count": 124,
   "id": "aa17a80a37b3ee5",
   "metadata": {
    "ExecuteTime": {
     "end_time": "2023-10-27T08:42:39.900335800Z",
     "start_time": "2023-10-27T08:42:39.845998600Z"
    },
    "collapsed": false
   },
   "outputs": [],
   "source": [
    "\n",
    "import os\n",
    "from datetime import datetime\n",
    "\n",
    "LOG_FILE = f\"{datetime.now().strftime('%d_%m_%Y_%H_%M_%S')}.log\"\n"
   ]
  },
  {
   "cell_type": "code",
   "execution_count": 127,
   "id": "e349cca036d6ef8a",
   "metadata": {
    "ExecuteTime": {
     "end_time": "2023-10-27T08:43:32.674481300Z",
     "start_time": "2023-10-27T08:43:32.491179700Z"
    },
    "collapsed": false
   },
   "outputs": [],
   "source": [
    "logs_path = os.path.join(os.getcwd(), 'Logs', LOG_FILE)"
   ]
  },
  {
   "cell_type": "code",
   "execution_count": 128,
   "id": "f05055bbc9034980",
   "metadata": {
    "ExecuteTime": {
     "end_time": "2023-10-27T08:43:33.544379200Z",
     "start_time": "2023-10-27T08:43:33.516398Z"
    },
    "collapsed": false
   },
   "outputs": [
    {
     "data": {
      "text/plain": [
       "'C:\\\\Users\\\\Dell\\\\Desktop\\\\Python\\\\Projects\\\\Sensor_Fault\\\\notebooks\\\\Logs\\\\27_10_2023_14_12_39.log\\\\27_10_2023_14_12_39.log'"
      ]
     },
     "execution_count": 128,
     "metadata": {},
     "output_type": "execute_result"
    }
   ],
   "source": [
    "os.path.join(logs_path, LOG_FILE)"
   ]
  },
  {
   "cell_type": "code",
   "execution_count": null,
   "id": "e52a420333c29bfd",
   "metadata": {
    "collapsed": false
   },
   "outputs": [],
   "source": []
  }
 ],
 "metadata": {
  "kernelspec": {
   "display_name": "sensor_fault",
   "language": "python",
   "name": "python3"
  },
  "language_info": {
   "codemirror_mode": {
    "name": "ipython",
    "version": 3
   },
   "file_extension": ".py",
   "mimetype": "text/x-python",
   "name": "python",
   "nbconvert_exporter": "python",
   "pygments_lexer": "ipython3",
   "version": "3.11.9"
  }
 },
 "nbformat": 4,
 "nbformat_minor": 5
}
