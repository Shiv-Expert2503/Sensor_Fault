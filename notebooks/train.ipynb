{
 "cells": [
  {
   "cell_type": "code",
   "execution_count": null,
   "id": "initial_id",
   "metadata": {
    "ExecuteTime": {
     "end_time": "2023-11-01T05:45:16.333587800Z",
     "start_time": "2023-11-01T05:45:16.210581600Z"
    },
    "collapsed": true
   },
   "outputs": [],
   "source": [
    "import os\n",
    "import warnings\n",
    "\n",
    "import matplotlib.pyplot as plt\n",
    "import numpy as np\n",
    "import pandas as pd\n",
    "import seaborn as sns\n",
    "\n",
    "warnings.filterwarnings('ignore')"
   ]
  },
  {
   "cell_type": "code",
   "execution_count": null,
   "id": "a9b31ba197331468",
   "metadata": {
    "ExecuteTime": {
     "end_time": "2023-11-01T05:45:16.412460Z",
     "start_time": "2023-11-01T05:45:16.224344600Z"
    },
    "collapsed": false
   },
   "outputs": [],
   "source": [
    "data = pd.read_csv(os.path.join(os.getcwd(), \"Data/wafer_23012020_041211.csv\"))"
   ]
  },
  {
   "cell_type": "code",
   "execution_count": null,
   "id": "780544cf9a55e451",
   "metadata": {
    "ExecuteTime": {
     "end_time": "2023-11-01T05:45:16.463819800Z",
     "start_time": "2023-11-01T05:45:16.268921700Z"
    },
    "collapsed": false
   },
   "outputs": [],
   "source": [
    "data.head()"
   ]
  },
  {
   "cell_type": "code",
   "execution_count": null,
   "id": "d51f37b0129f559d",
   "metadata": {
    "ExecuteTime": {
     "end_time": "2023-11-01T05:47:33.242719300Z",
     "start_time": "2023-11-01T05:47:33.201418200Z"
    },
    "collapsed": false
   },
   "outputs": [],
   "source": [
    "data['Unnamed: 0'].value_counts()"
   ]
  },
  {
   "cell_type": "code",
   "execution_count": null,
   "id": "29cfb43fb063fc5f",
   "metadata": {
    "collapsed": false
   },
   "outputs": [],
   "source": [
    "data.copy().drop([\"Good/Bad\", \"Unnamed: 0\"], axis=1).to_csv(\"Data/test2.csv\", index=False)"
   ]
  },
  {
   "cell_type": "code",
   "execution_count": null,
   "id": "a72c53f9059f6227",
   "metadata": {
    "collapsed": false
   },
   "outputs": [],
   "source": []
  },
  {
   "cell_type": "code",
   "execution_count": null,
   "id": "5b1a10d0fbb0f03c",
   "metadata": {
    "collapsed": false
   },
   "outputs": [],
   "source": []
  },
  {
   "cell_type": "code",
   "execution_count": null,
   "id": "4686668f2a3ea58",
   "metadata": {
    "collapsed": false
   },
   "outputs": [],
   "source": []
  },
  {
   "cell_type": "code",
   "execution_count": null,
   "id": "42fc38c2d60c4655",
   "metadata": {
    "ExecuteTime": {
     "end_time": "2023-10-27T16:59:27.707586600Z",
     "start_time": "2023-10-27T16:59:27.689335800Z"
    },
    "collapsed": false
   },
   "outputs": [],
   "source": [
    "def get_redundant_cols(df1: pd.DataFrame, missing_tresh=0.7):\n",
    "    ratio = df1.isna().sum() / df1.shape[0]\n",
    "    l1 = list(ratio[ratio > missing_tresh].index)\n",
    "    return l1"
   ]
  },
  {
   "cell_type": "code",
   "execution_count": null,
   "id": "6cd694bc2246bed",
   "metadata": {
    "ExecuteTime": {
     "end_time": "2023-10-27T17:00:44.114959600Z",
     "start_time": "2023-10-27T17:00:44.069469600Z"
    },
    "collapsed": false
   },
   "outputs": [],
   "source": [
    "cols_to_drop = get_redundant_cols(data)\n",
    "cols_to_drop.append('Unnamed: 0')\n",
    "cols_to_drop.append('Good/Bad')\n",
    "x = data.drop((cols_to_drop), axis=1)"
   ]
  },
  {
   "cell_type": "code",
   "execution_count": null,
   "id": "1cc66a1f10ebbcc6",
   "metadata": {
    "ExecuteTime": {
     "end_time": "2023-10-27T17:02:35.382439900Z",
     "start_time": "2023-10-27T17:02:35.368647500Z"
    },
    "collapsed": false
   },
   "outputs": [],
   "source": [
    "y = data['Good/Bad']"
   ]
  },
  {
   "cell_type": "code",
   "execution_count": null,
   "id": "691ecfc480772046",
   "metadata": {
    "ExecuteTime": {
     "end_time": "2023-10-27T17:03:48.516807800Z",
     "start_time": "2023-10-27T17:03:48.436322200Z"
    },
    "collapsed": false
   },
   "outputs": [],
   "source": [
    "y.unique()"
   ]
  },
  {
   "cell_type": "code",
   "execution_count": null,
   "id": "af97307ca30294d8",
   "metadata": {
    "ExecuteTime": {
     "end_time": "2023-10-27T17:02:59.522072Z",
     "start_time": "2023-10-27T17:02:59.482105300Z"
    },
    "collapsed": false
   },
   "outputs": [],
   "source": [
    "y = np.where(y == -1, 0, 1)"
   ]
  },
  {
   "cell_type": "code",
   "execution_count": null,
   "id": "d93312b508233cd3",
   "metadata": {
    "ExecuteTime": {
     "end_time": "2023-10-27T17:03:03.010734600Z",
     "start_time": "2023-10-27T17:03:02.973192500Z"
    },
    "collapsed": false
   },
   "outputs": [],
   "source": [
    "y"
   ]
  },
  {
   "cell_type": "code",
   "execution_count": null,
   "id": "7be73162b5ec7aad",
   "metadata": {
    "ExecuteTime": {
     "end_time": "2023-10-27T04:55:55.502965900Z",
     "start_time": "2023-10-27T04:55:55.471660200Z"
    },
    "collapsed": false
   },
   "outputs": [],
   "source": [
    "df.info()\n",
    "# df.size()"
   ]
  },
  {
   "cell_type": "code",
   "execution_count": null,
   "id": "9dd88a84e5d320a2",
   "metadata": {
    "ExecuteTime": {
     "end_time": "2023-10-27T04:51:01.416959900Z",
     "start_time": "2023-10-27T04:51:01.401115700Z"
    },
    "collapsed": false
   },
   "outputs": [],
   "source": [
    "df['Unnamed: 0'].info()"
   ]
  },
  {
   "cell_type": "code",
   "execution_count": null,
   "id": "fdbbecd8e4356d3b",
   "metadata": {
    "ExecuteTime": {
     "end_time": "2023-10-27T04:51:15.444350200Z",
     "start_time": "2023-10-27T04:51:14.150782Z"
    },
    "collapsed": false
   },
   "outputs": [],
   "source": [
    "df.describe()"
   ]
  },
  {
   "cell_type": "code",
   "execution_count": null,
   "id": "20707d1c1d2d494e",
   "metadata": {
    "ExecuteTime": {
     "end_time": "2023-10-27T04:51:30.986600700Z",
     "start_time": "2023-10-27T04:51:30.968929Z"
    },
    "collapsed": false
   },
   "outputs": [],
   "source": [
    "df.isnull().sum()"
   ]
  },
  {
   "cell_type": "code",
   "execution_count": null,
   "id": "a6acb430879c2128",
   "metadata": {
    "ExecuteTime": {
     "end_time": "2023-10-27T04:52:02.291015600Z",
     "start_time": "2023-10-27T04:52:02.219621800Z"
    },
    "collapsed": false
   },
   "outputs": [],
   "source": [
    "df[df.duplicated()].sum()"
   ]
  },
  {
   "cell_type": "code",
   "execution_count": null,
   "id": "15895da6d7363469",
   "metadata": {
    "ExecuteTime": {
     "end_time": "2023-10-27T04:52:20.508811400Z",
     "start_time": "2023-10-27T04:52:20.260889500Z"
    },
    "collapsed": false
   },
   "outputs": [],
   "source": [
    "df[df.isnull()]"
   ]
  },
  {
   "cell_type": "code",
   "execution_count": null,
   "id": "f3c28b3cc92b310a",
   "metadata": {
    "ExecuteTime": {
     "end_time": "2023-10-27T04:56:02.013704400Z",
     "start_time": "2023-10-27T04:56:01.963619600Z"
    },
    "collapsed": false
   },
   "outputs": [],
   "source": [
    "df.head()"
   ]
  },
  {
   "cell_type": "code",
   "execution_count": null,
   "id": "7f0afb9c485f449",
   "metadata": {
    "ExecuteTime": {
     "end_time": "2023-10-27T04:56:40.537779500Z",
     "start_time": "2023-10-27T04:56:40.490284200Z"
    },
    "collapsed": false
   },
   "outputs": [],
   "source": [
    "df.shape"
   ]
  },
  {
   "cell_type": "code",
   "execution_count": null,
   "id": "518e920cf75827b0",
   "metadata": {
    "ExecuteTime": {
     "end_time": "2023-10-27T05:06:59.436454800Z",
     "start_time": "2023-10-27T05:06:58.977163Z"
    },
    "collapsed": false
   },
   "outputs": [],
   "source": [
    "plt.figure(figsize=(10, 6))\n",
    "plt.scatter(df.index, df['Sensor-1'], c=df['Good/Bad'], cmap='viridis')\n",
    "plt.xlabel('Index')\n",
    "plt.ylabel('Value')\n",
    "plt.title('Anomaly Detection Results')\n",
    "plt.show()\n"
   ]
  },
  {
   "cell_type": "code",
   "execution_count": null,
   "id": "a2c3ac97891e151",
   "metadata": {
    "ExecuteTime": {
     "end_time": "2023-10-27T05:12:26.362961200Z",
     "start_time": "2023-10-27T05:12:10.707557500Z"
    },
    "collapsed": false
   },
   "outputs": [],
   "source": [
    "sns.boxplot(df)"
   ]
  },
  {
   "cell_type": "code",
   "execution_count": null,
   "id": "b04b5c2339c5c9a8",
   "metadata": {
    "ExecuteTime": {
     "end_time": "2023-10-27T05:14:49.505941900Z",
     "start_time": "2023-10-27T05:14:49.406667500Z"
    },
    "collapsed": false
   },
   "outputs": [],
   "source": [
    "df.isna().sum() / df.shape[0]"
   ]
  },
  {
   "cell_type": "code",
   "execution_count": null,
   "id": "891ee9431030c2a0",
   "metadata": {
    "ExecuteTime": {
     "end_time": "2023-10-27T05:26:08.271218600Z",
     "start_time": "2023-10-27T05:26:08.221760300Z"
    },
    "collapsed": false
   },
   "outputs": [],
   "source": [
    "# ratio=df.isna().sum().div(df.shape[0])\n",
    "# l1=list(ratio[ratio>0.9].index)\n",
    "# l1\n",
    "df[df.isna().sum().div(df.shape[0]) > 0.9]"
   ]
  },
  {
   "cell_type": "code",
   "execution_count": null,
   "id": "c5b8ce1ce3ae7e80",
   "metadata": {
    "ExecuteTime": {
     "end_time": "2023-10-27T05:26:22.667588700Z",
     "start_time": "2023-10-27T05:26:22.649528100Z"
    },
    "collapsed": false
   },
   "outputs": [],
   "source": [
    "def get_redundant_cols(df1: pd.DataFrame, missing_tresh=0.7):\n",
    "    ratio = df1.isna().sum() / df1.shape[0]\n",
    "    l1 = list(ratio[ratio > missing_tresh].index)\n",
    "    return l1"
   ]
  },
  {
   "cell_type": "code",
   "execution_count": null,
   "id": "3660354453f255b9",
   "metadata": {
    "ExecuteTime": {
     "end_time": "2023-10-27T05:27:32.689966700Z",
     "start_time": "2023-10-27T05:27:32.624971500Z"
    },
    "collapsed": false
   },
   "outputs": [],
   "source": [
    "l = get_redundant_cols(df)\n",
    "print(l)"
   ]
  },
  {
   "cell_type": "code",
   "execution_count": null,
   "id": "710ac6c636ece888",
   "metadata": {
    "ExecuteTime": {
     "end_time": "2023-10-27T07:40:33.858725900Z",
     "start_time": "2023-10-27T07:40:33.803501900Z"
    },
    "collapsed": false
   },
   "outputs": [],
   "source": [
    "df.drop(['Unnamed: 0'], axis=1).std()[df.drop(['Unnamed: 0'], axis=1).std() == 0].index"
   ]
  },
  {
   "cell_type": "code",
   "execution_count": null,
   "id": "f99f2cde0127f67f",
   "metadata": {
    "ExecuteTime": {
     "end_time": "2023-10-27T07:40:52.976401100Z",
     "start_time": "2023-10-27T07:40:52.949810700Z"
    },
    "collapsed": false
   },
   "outputs": [],
   "source": [
    "def col_0_std(df2: pd.DataFrame):\n",
    "    standard_deviation = list(df.drop(['Unnamed: 0'], axis=1).std()[df.drop(['Unnamed: 0'], axis=1).std() == 0].index)\n",
    "    return standard_deviation"
   ]
  },
  {
   "cell_type": "code",
   "execution_count": null,
   "id": "b826c5be91ee0d12",
   "metadata": {
    "ExecuteTime": {
     "end_time": "2023-10-27T07:41:03.976611300Z",
     "start_time": "2023-10-27T07:41:03.938868200Z"
    },
    "collapsed": false
   },
   "outputs": [],
   "source": [
    "l2 = col_0_std(df)\n",
    "print(len(l2))"
   ]
  },
  {
   "cell_type": "code",
   "execution_count": null,
   "id": "11ec5b9b8d27c6c3",
   "metadata": {
    "ExecuteTime": {
     "end_time": "2023-10-27T07:46:14.647518200Z",
     "start_time": "2023-10-27T07:46:14.582254200Z"
    },
    "collapsed": false
   },
   "outputs": [],
   "source": [
    "all_col_to_delete = l + l2\n",
    "all_col_to_delete.append('Unnamed: 0')"
   ]
  },
  {
   "cell_type": "code",
   "execution_count": null,
   "id": "7b06350543a70779",
   "metadata": {
    "ExecuteTime": {
     "end_time": "2023-10-27T07:46:14.984071600Z",
     "start_time": "2023-10-27T07:46:14.958509400Z"
    },
    "collapsed": false
   },
   "outputs": [],
   "source": [
    "all_col_to_delete"
   ]
  },
  {
   "cell_type": "code",
   "execution_count": null,
   "id": "58e46efdf96e355f",
   "metadata": {
    "ExecuteTime": {
     "end_time": "2023-10-27T07:46:17.546419Z",
     "start_time": "2023-10-27T07:46:17.520269700Z"
    },
    "collapsed": false
   },
   "outputs": [],
   "source": [
    "len(all_col_to_delete)"
   ]
  },
  {
   "cell_type": "code",
   "execution_count": null,
   "id": "a0a33766d99e8b0e",
   "metadata": {
    "ExecuteTime": {
     "end_time": "2023-10-27T07:46:18.718414500Z",
     "start_time": "2023-10-27T07:46:18.686889100Z"
    },
    "collapsed": false
   },
   "outputs": [],
   "source": [
    "x, y = df.drop(all_col_to_delete, axis=1), df[['Good/Bad']]"
   ]
  },
  {
   "cell_type": "code",
   "execution_count": null,
   "id": "faaeb1fd132ea263",
   "metadata": {
    "ExecuteTime": {
     "end_time": "2023-10-27T07:46:24.899272300Z",
     "start_time": "2023-10-27T07:46:24.798547500Z"
    },
    "collapsed": false
   },
   "outputs": [],
   "source": [
    "x.head()"
   ]
  },
  {
   "cell_type": "code",
   "execution_count": null,
   "id": "46dac8351d58e344",
   "metadata": {
    "ExecuteTime": {
     "end_time": "2023-10-27T07:46:28.295960Z",
     "start_time": "2023-10-27T07:46:28.185616600Z"
    },
    "collapsed": false
   },
   "outputs": [],
   "source": [
    "y"
   ]
  },
  {
   "cell_type": "code",
   "execution_count": null,
   "id": "dcacc28effa1ee6f",
   "metadata": {
    "ExecuteTime": {
     "end_time": "2023-10-27T07:46:38.377776700Z",
     "start_time": "2023-10-27T07:46:38.304248900Z"
    },
    "collapsed": false
   },
   "outputs": [],
   "source": [
    "x.shape, y.shape"
   ]
  },
  {
   "cell_type": "code",
   "execution_count": null,
   "id": "7a5ac5fcab445ab1",
   "metadata": {
    "ExecuteTime": {
     "end_time": "2023-10-27T07:48:23.931749100Z",
     "start_time": "2023-10-27T07:48:23.093154400Z"
    },
    "collapsed": false
   },
   "outputs": [],
   "source": [
    "from sklearn.preprocessing import RobustScaler\n",
    "from sklearn.impute import KNNImputer\n",
    "from sklearn.pipeline import Pipeline"
   ]
  },
  {
   "cell_type": "code",
   "execution_count": null,
   "id": "5d005c5b0f6c7712",
   "metadata": {
    "ExecuteTime": {
     "end_time": "2023-10-27T07:52:44.389430100Z",
     "start_time": "2023-10-27T07:52:44.373142400Z"
    },
    "collapsed": false
   },
   "outputs": [],
   "source": [
    "imputer = KNNImputer(n_neighbors=5)\n",
    "pipeline = Pipeline(\n",
    "    steps=[('imputer', imputer),\n",
    "           ('scaler', RobustScaler())]\n",
    ")"
   ]
  },
  {
   "cell_type": "markdown",
   "id": "dbd7493aac0e4210",
   "metadata": {
    "collapsed": false
   },
   "source": [
    "# Transforming"
   ]
  },
  {
   "cell_type": "code",
   "execution_count": null,
   "id": "bd91b6c98011154b",
   "metadata": {
    "ExecuteTime": {
     "end_time": "2023-10-27T07:53:27.086372300Z",
     "start_time": "2023-10-27T07:53:26.805491700Z"
    },
    "collapsed": false
   },
   "outputs": [],
   "source": [
    "x_trans = pipeline.fit_transform(x)"
   ]
  },
  {
   "cell_type": "code",
   "execution_count": null,
   "id": "bad2da0a48c690",
   "metadata": {
    "ExecuteTime": {
     "end_time": "2023-10-27T07:53:36.167581Z",
     "start_time": "2023-10-27T07:53:36.102816100Z"
    },
    "collapsed": false
   },
   "outputs": [],
   "source": [
    "x_trans.shape"
   ]
  },
  {
   "cell_type": "code",
   "execution_count": null,
   "id": "7615d1888716f0d",
   "metadata": {
    "ExecuteTime": {
     "end_time": "2023-10-27T07:56:26.653375800Z",
     "start_time": "2023-10-27T07:56:25.658634200Z"
    },
    "collapsed": false
   },
   "outputs": [],
   "source": [
    "from imblearn.combine import SMOTETomek\n",
    "\n",
    "X, y = x_trans[:, :-1], y\n",
    "resampler = SMOTETomek(sampling_strategy=\"auto\")\n",
    "X_res, y_res = resampler.fit_resample(X, y)"
   ]
  },
  {
   "cell_type": "code",
   "execution_count": null,
   "id": "9db90d131fd234a8",
   "metadata": {
    "ExecuteTime": {
     "end_time": "2023-10-27T07:56:36.014676400Z",
     "start_time": "2023-10-27T07:56:35.967766600Z"
    },
    "collapsed": false
   },
   "outputs": [],
   "source": [
    "print(\"Before resampling, Shape of training instances: \", np.c_[X, y].shape)\n",
    "print(\"After resampling, Shape of training instances: \", np.c_[X_res, y_res].shape)"
   ]
  },
  {
   "cell_type": "code",
   "execution_count": null,
   "id": "c72d2481e0017c77",
   "metadata": {
    "ExecuteTime": {
     "end_time": "2023-10-27T07:57:49.095832100Z",
     "start_time": "2023-10-27T07:57:49.036291900Z"
    },
    "collapsed": false
   },
   "outputs": [],
   "source": [
    "print(np.unique(y_res))\n",
    "print(f\"Value Counts: \\n-1: {len(y_res[y_res == -1])}, 1: {len(y_res[y_res == 1])}\")"
   ]
  },
  {
   "cell_type": "code",
   "execution_count": null,
   "id": "1033fe7be250c782",
   "metadata": {
    "ExecuteTime": {
     "end_time": "2023-10-27T07:58:00.503997800Z",
     "start_time": "2023-10-27T07:58:00.433078Z"
    },
    "collapsed": false
   },
   "outputs": [],
   "source": [
    "from sklearn.model_selection import train_test_split\n",
    "\n",
    "X_train, X_test, y_train, y_test = train_test_split(X_res, y_res, test_size=1 / 3, random_state=42)\n",
    "\n",
    "print(f\"train set: {X_train.shape, y_train.shape}\")\n",
    "print(f\"test set: {X_test.shape, y_test.shape}\")"
   ]
  },
  {
   "cell_type": "code",
   "execution_count": null,
   "id": "6476a1ac4925e04f",
   "metadata": {
    "ExecuteTime": {
     "end_time": "2023-10-27T07:58:09.294641300Z",
     "start_time": "2023-10-27T07:58:09.168526Z"
    },
    "collapsed": false
   },
   "outputs": [],
   "source": [
    "# Prepared training and test sets\n",
    "\n",
    "X_prep = X_train\n",
    "y_prep = y_train\n",
    "X_test_prep = X_test\n",
    "y_test_prep = y_test\n",
    "\n",
    "print(X_prep.shape, y_prep.shape)\n",
    "print(X_test_prep.shape, y_test_prep.shape)"
   ]
  },
  {
   "cell_type": "code",
   "execution_count": null,
   "id": "68a09bf9602bb60f",
   "metadata": {
    "ExecuteTime": {
     "end_time": "2023-10-27T08:10:26.240735500Z",
     "start_time": "2023-10-27T08:10:26.143680200Z"
    },
    "collapsed": false
   },
   "outputs": [],
   "source": [
    "from sklearn.svm import SVC\n",
    "from sklearn.ensemble import RandomForestClassifier\n",
    "from xgboost import XGBClassifier\n",
    "from sklearn.model_selection import cross_val_score\n",
    "from sklearn.model_selection import cross_val_predict\n",
    "from sklearn.metrics import roc_auc_score\n",
    "\n",
    "# Shortlisted base Models\n",
    "svc_clf = SVC(kernel='linear')\n",
    "svc_rbf_clf = SVC(kernel='rbf')\n",
    "random_clf = RandomForestClassifier(random_state=42)\n",
    "xgb_clf = XGBClassifier()"
   ]
  },
  {
   "cell_type": "code",
   "execution_count": null,
   "id": "a1d4cde009012a84",
   "metadata": {
    "ExecuteTime": {
     "end_time": "2023-10-27T07:59:52.040620200Z",
     "start_time": "2023-10-27T07:59:51.961130900Z"
    },
    "collapsed": false
   },
   "outputs": [],
   "source": [
    "## A function to display Scores\n",
    "\n",
    "def display_scores(scores):\n",
    "    print(\"Scores: \", scores)\n",
    "    print(\"Mean: \", scores.mean())\n",
    "    print(\"Standard Deviation: \", scores.std())"
   ]
  },
  {
   "cell_type": "code",
   "execution_count": null,
   "id": "d2da7a66850cdb85",
   "metadata": {
    "ExecuteTime": {
     "end_time": "2023-10-27T08:00:31.845250100Z",
     "start_time": "2023-10-27T08:00:31.668800Z"
    },
    "collapsed": false
   },
   "outputs": [],
   "source": [
    "## SVC Scores\n",
    "\n",
    "svc_scores = cross_val_score(svc_clf, X_prep, y_prep, scoring='roc_auc', cv=10, verbose=2)"
   ]
  },
  {
   "cell_type": "code",
   "execution_count": null,
   "id": "baed28744b0ea1cd",
   "metadata": {
    "ExecuteTime": {
     "end_time": "2023-10-27T08:00:41.995917300Z",
     "start_time": "2023-10-27T08:00:41.923202Z"
    },
    "collapsed": false
   },
   "outputs": [],
   "source": [
    "display_scores(svc_scores)"
   ]
  },
  {
   "cell_type": "code",
   "execution_count": null,
   "id": "adcb16e449035b1b",
   "metadata": {
    "ExecuteTime": {
     "end_time": "2023-10-27T08:00:48.214427200Z",
     "start_time": "2023-10-27T08:00:48.093690300Z"
    },
    "collapsed": false
   },
   "outputs": [],
   "source": [
    "## Performance on test set using cross-validation\n",
    "\n",
    "# Predictions using cross-validation\n",
    "svc_preds = cross_val_predict(svc_clf, X_test_prep, y_test_prep, cv=5)\n",
    "\n",
    "# AUC score\n",
    "svc_auc = roc_auc_score(y_test_prep, svc_preds)\n",
    "svc_auc"
   ]
  },
  {
   "cell_type": "code",
   "execution_count": null,
   "id": "c5feb61292e304b4",
   "metadata": {
    "ExecuteTime": {
     "end_time": "2023-10-27T08:01:00.641288400Z",
     "start_time": "2023-10-27T08:01:00.468124100Z"
    },
    "collapsed": false
   },
   "outputs": [],
   "source": [
    "## SVC rbf Scores\n",
    "\n",
    "svc_rbf_scores = cross_val_score(svc_rbf_clf, X_prep, y_prep, scoring='roc_auc', cv=10, verbose=2)"
   ]
  },
  {
   "cell_type": "code",
   "execution_count": null,
   "id": "65f5a39ab227fce0",
   "metadata": {
    "ExecuteTime": {
     "end_time": "2023-10-27T08:01:07.733909200Z",
     "start_time": "2023-10-27T08:01:07.657962900Z"
    },
    "collapsed": false
   },
   "outputs": [],
   "source": [
    "display_scores(svc_rbf_scores)"
   ]
  },
  {
   "cell_type": "code",
   "execution_count": null,
   "id": "a7b85c8538d63bf",
   "metadata": {
    "ExecuteTime": {
     "end_time": "2023-10-27T08:01:21.884464700Z",
     "start_time": "2023-10-27T08:01:21.745159500Z"
    },
    "collapsed": false
   },
   "outputs": [],
   "source": [
    "## Performance on test set using cross-validation\n",
    "\n",
    "# Predictions using cross-validation\n",
    "svc_rbf_preds = cross_val_predict(svc_rbf_clf, X_test_prep, y_test_prep, cv=5)\n",
    "\n",
    "# AUC score\n",
    "svc_rbf_auc = roc_auc_score(y_test_prep, svc_rbf_preds)\n",
    "svc_rbf_auc"
   ]
  },
  {
   "cell_type": "code",
   "execution_count": null,
   "id": "219fb1cb6dad645a",
   "metadata": {
    "ExecuteTime": {
     "end_time": "2023-10-27T08:01:34.297306700Z",
     "start_time": "2023-10-27T08:01:29.595589300Z"
    },
    "collapsed": false
   },
   "outputs": [],
   "source": [
    "## Random Forest Scores\n",
    "\n",
    "random_clf_scores = cross_val_score(random_clf, X_prep, y_prep, scoring='roc_auc', cv=10, verbose=2)"
   ]
  },
  {
   "cell_type": "code",
   "execution_count": null,
   "id": "79a79493897e25f",
   "metadata": {
    "ExecuteTime": {
     "end_time": "2023-10-27T08:01:38.712779700Z",
     "start_time": "2023-10-27T08:01:38.618334700Z"
    },
    "collapsed": false
   },
   "outputs": [],
   "source": [
    "display_scores(random_clf_scores)"
   ]
  },
  {
   "cell_type": "code",
   "execution_count": null,
   "id": "87e771a9b484018a",
   "metadata": {
    "ExecuteTime": {
     "end_time": "2023-10-27T08:01:46.185683500Z",
     "start_time": "2023-10-27T08:01:44.295459500Z"
    },
    "collapsed": false
   },
   "outputs": [],
   "source": [
    "## Performance on test set using cross-validation\n",
    "\n",
    "# Predictions using cross-validation\n",
    "random_clf_preds = cross_val_predict(random_clf, X_test_prep, y_test_prep, cv=5)\n",
    "\n",
    "# AUC score\n",
    "random_clf_auc = roc_auc_score(y_test_prep, random_clf_preds)\n",
    "random_clf_auc"
   ]
  },
  {
   "cell_type": "code",
   "execution_count": null,
   "id": "83a4ebd067a4a760",
   "metadata": {
    "ExecuteTime": {
     "end_time": "2023-10-27T08:13:55.292866Z",
     "start_time": "2023-10-27T08:13:55.263887400Z"
    },
    "collapsed": false
   },
   "outputs": [],
   "source": [
    "# y_prep\n",
    "Y_xgb_prep = y_prep\n",
    "Y_xgb_prep[Y_xgb_prep == -1] = 0\n",
    "Y_xgb_prep"
   ]
  },
  {
   "cell_type": "code",
   "execution_count": null,
   "id": "fffaa071f7833cb3",
   "metadata": {
    "ExecuteTime": {
     "end_time": "2023-10-27T08:14:11.575143300Z",
     "start_time": "2023-10-27T08:14:09.988928800Z"
    },
    "collapsed": false
   },
   "outputs": [],
   "source": [
    "xgb = cross_val_score(xgb_clf, X_prep, Y_xgb_prep, scoring='roc_auc', cv=10, verbose=2)"
   ]
  },
  {
   "cell_type": "code",
   "execution_count": null,
   "id": "5f6dcbe2893eddb5",
   "metadata": {
    "ExecuteTime": {
     "end_time": "2023-10-27T08:16:10.966854300Z",
     "start_time": "2023-10-27T08:16:10.879865400Z"
    },
    "collapsed": false
   },
   "outputs": [],
   "source": [
    "# display_scores(xgb_clf)\n",
    "Y_xgb_test = y_test_prep\n",
    "Y_xgb_test[Y_xgb_test == -1] = 0\n",
    "Y_xgb_test"
   ]
  },
  {
   "cell_type": "code",
   "execution_count": null,
   "id": "47f0462ac5d8687",
   "metadata": {
    "ExecuteTime": {
     "end_time": "2023-10-27T08:16:14.655805700Z",
     "start_time": "2023-10-27T08:16:14.250082200Z"
    },
    "collapsed": false
   },
   "outputs": [],
   "source": [
    "xgb_clf_preds = cross_val_predict(xgb_clf, X_test_prep, y_test_prep, cv=5)\n",
    "\n",
    "# AUC score\n",
    "xgb_clf_auc = roc_auc_score(y_test_prep, random_clf_preds)\n",
    "xgb_clf_auc"
   ]
  },
  {
   "cell_type": "code",
   "execution_count": null,
   "id": "aa17a80a37b3ee5",
   "metadata": {
    "ExecuteTime": {
     "end_time": "2023-10-27T08:42:39.900335800Z",
     "start_time": "2023-10-27T08:42:39.845998600Z"
    },
    "collapsed": false
   },
   "outputs": [],
   "source": [
    "\n",
    "import os\n",
    "from datetime import datetime\n",
    "\n",
    "LOG_FILE = f\"{datetime.now().strftime('%d_%m_%Y_%H_%M_%S')}.log\"\n"
   ]
  },
  {
   "cell_type": "code",
   "execution_count": null,
   "id": "e349cca036d6ef8a",
   "metadata": {
    "ExecuteTime": {
     "end_time": "2023-10-27T08:43:32.674481300Z",
     "start_time": "2023-10-27T08:43:32.491179700Z"
    },
    "collapsed": false
   },
   "outputs": [],
   "source": [
    "logs_path = os.path.join(os.getcwd(), 'Logs', LOG_FILE)"
   ]
  },
  {
   "cell_type": "code",
   "execution_count": null,
   "id": "f05055bbc9034980",
   "metadata": {
    "ExecuteTime": {
     "end_time": "2023-10-27T08:43:33.544379200Z",
     "start_time": "2023-10-27T08:43:33.516398Z"
    },
    "collapsed": false
   },
   "outputs": [],
   "source": [
    "os.path.join(logs_path, LOG_FILE)"
   ]
  },
  {
   "cell_type": "code",
   "execution_count": null,
   "id": "e52a420333c29bfd",
   "metadata": {
    "collapsed": false
   },
   "outputs": [],
   "source": []
  }
 ],
 "metadata": {
  "kernelspec": {
   "display_name": "sensor_fault",
   "language": "python",
   "name": "python3"
  },
  "language_info": {
   "codemirror_mode": {
    "name": "ipython",
    "version": 3
   },
   "file_extension": ".py",
   "mimetype": "text/x-python",
   "name": "python",
   "nbconvert_exporter": "python",
   "pygments_lexer": "ipython3",
   "version": "3.11.9"
  }
 },
 "nbformat": 4,
 "nbformat_minor": 5
}
