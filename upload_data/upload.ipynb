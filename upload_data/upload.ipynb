{
 "cells": [
  {
   "cell_type": "code",
   "execution_count": null,
   "id": "initial_id",
   "metadata": {
    "ExecuteTime": {
     "end_time": "2023-11-01T05:43:33.952617600Z",
     "start_time": "2023-11-01T05:43:32.983982300Z"
    },
    "collapsed": true
   },
   "outputs": [],
   "source": [
    "import os\n",
    "import pandas as pd\n",
    "import json\n",
    "from pymongo.mongo_client import MongoClient"
   ]
  },
  {
   "cell_type": "code",
   "execution_count": null,
   "id": "a4dacec50a87f6dd",
   "metadata": {
    "ExecuteTime": {
     "end_time": "2023-10-31T05:05:59.184372100Z",
     "start_time": "2023-10-31T05:05:58.776696600Z"
    },
    "collapsed": false
   },
   "outputs": [],
   "source": [
    "path = os.path.abspath(os.path.join(os.getcwd(), '..', 'notebooks', 'data', 'wafer_23012020_041211.csv'))"
   ]
  },
  {
   "cell_type": "code",
   "execution_count": null,
   "id": "43e739b6193b881a",
   "metadata": {
    "ExecuteTime": {
     "end_time": "2023-10-31T05:05:59.499375600Z",
     "start_time": "2023-10-31T05:05:59.384571300Z"
    },
    "collapsed": false
   },
   "outputs": [],
   "source": [
    "df = pd.read_csv(path)"
   ]
  },
  {
   "cell_type": "code",
   "execution_count": null,
   "id": "77c0844787d637fa",
   "metadata": {
    "ExecuteTime": {
     "end_time": "2023-10-31T05:06:42.493344300Z",
     "start_time": "2023-10-31T05:06:38.978929900Z"
    },
    "collapsed": false
   },
   "outputs": [],
   "source": [
    "uri = \"mongodb+srv://shivansh1:<password>@cluster0.yc3hy9y.mongodb.net/?retryWrites=true&w=majority\"\n",
    "\n",
    "# Create a new client and connect to the server\n",
    "client = MongoClient(uri)\n",
    "\n",
    "print(\"YES\")\n",
    "# Database name and Collection name\n",
    "DATABASE_NAME = \"learning\"\n",
    "COLLECTION_NAME = \"sensor_fault\"\n",
    "\n",
    "json_records = list(json.loads(df.T.to_json()).values())\n",
    "client[DATABASE_NAME][COLLECTION_NAME].insert_many(json_records)\n",
    "print(\"DONE\")\n"
   ]
  },
  {
   "cell_type": "code",
   "execution_count": null,
   "id": "28b5420ffc0dfe13",
   "metadata": {
    "ExecuteTime": {
     "end_time": "2023-10-31T05:01:34.192769Z",
     "start_time": "2023-10-31T05:01:34.111957500Z"
    },
    "collapsed": false
   },
   "outputs": [],
   "source": [
    "df"
   ]
  },
  {
   "cell_type": "code",
   "execution_count": null,
   "id": "9c2d5194950c4d80",
   "metadata": {
    "ExecuteTime": {
     "end_time": "2023-10-31T05:04:48.850862800Z",
     "start_time": "2023-10-31T05:04:47.066081100Z"
    },
    "collapsed": false
   },
   "outputs": [],
   "source": []
  },
  {
   "cell_type": "code",
   "execution_count": null,
   "id": "b74a6375ede5cbe5",
   "metadata": {
    "ExecuteTime": {
     "end_time": "2023-10-31T05:17:39.996010500Z",
     "start_time": "2023-10-31T05:17:39.660260700Z"
    },
    "collapsed": false
   },
   "outputs": [],
   "source": [
    "from src.logger import logging\n",
    "import sys\n",
    "from src.exception import CustomException"
   ]
  },
  {
   "cell_type": "code",
   "execution_count": null,
   "id": "7a98174a817f17fe",
   "metadata": {
    "ExecuteTime": {
     "end_time": "2023-10-31T05:15:27.962598200Z",
     "start_time": "2023-10-31T05:15:27.234318700Z"
    },
    "collapsed": false
   },
   "outputs": [],
   "source": [
    "try:\n",
    "    x = 10 / 0\n",
    "except Exception as e:\n",
    "    logging.info(f\"Error {e}\")"
   ]
  },
  {
   "cell_type": "code",
   "execution_count": null,
   "id": "d308bafd45415a5b",
   "metadata": {
    "ExecuteTime": {
     "end_time": "2023-10-31T05:15:44.331368600Z",
     "start_time": "2023-10-31T05:15:44.283452600Z"
    },
    "collapsed": false
   },
   "outputs": [],
   "source": [
    "try:\n",
    "    x = 10 / 0\n",
    "except Exception as e:\n",
    "    logging.error(\"Error\", exc_info=e)"
   ]
  },
  {
   "cell_type": "code",
   "execution_count": null,
   "id": "b1e1a610fc4622b",
   "metadata": {
    "ExecuteTime": {
     "end_time": "2023-10-31T05:17:43.115808400Z",
     "start_time": "2023-10-31T05:17:42.989557800Z"
    },
    "collapsed": false
   },
   "outputs": [],
   "source": [
    "try:\n",
    "    x = 10 / 0\n",
    "except Exception as e:\n",
    "    logging.error(\"Error\", exc_info=True)\n",
    "    raise CustomException(e, sys)"
   ]
  },
  {
   "cell_type": "code",
   "execution_count": null,
   "id": "18143166f8579212",
   "metadata": {
    "collapsed": false
   },
   "outputs": [],
   "source": []
  }
 ],
 "metadata": {
  "kernelspec": {
   "display_name": "Python 3",
   "language": "python",
   "name": "python3"
  },
  "language_info": {
   "codemirror_mode": {
    "name": "ipython",
    "version": 2
   },
   "file_extension": ".py",
   "mimetype": "text/x-python",
   "name": "python",
   "nbconvert_exporter": "python",
   "pygments_lexer": "ipython2",
   "version": "2.7.6"
  }
 },
 "nbformat": 4,
 "nbformat_minor": 5
}
